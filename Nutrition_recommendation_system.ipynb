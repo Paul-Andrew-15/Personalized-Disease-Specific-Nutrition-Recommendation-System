{
  "cells": [
    {
      "cell_type": "markdown",
      "metadata": {
        "id": "PQhw-qQ4ikpp"
      },
      "source": [
        "## **Accessing the dataset**"
      ]
    },
    {
      "cell_type": "code",
      "execution_count": 1,
      "metadata": {
        "colab": {
          "base_uri": "https://localhost:8080/"
        },
        "id": "Au9kKmraYMYb",
        "outputId": "9613e14d-1fc2-42ce-fbd3-f16964cbf35b"
      },
      "outputs": [
        {
          "output_type": "stream",
          "name": "stdout",
          "text": [
            "Mounted at /content/drive\n"
          ]
        }
      ],
      "source": [
        "from google.colab import drive\n",
        "drive.mount('/content/drive')"
      ]
    },
    {
      "cell_type": "markdown",
      "metadata": {
        "id": "h8dTTcUcirzH"
      },
      "source": [
        "## **Importing libraries**"
      ]
    },
    {
      "cell_type": "code",
      "execution_count": 2,
      "metadata": {
        "id": "p1S0157he-qp"
      },
      "outputs": [],
      "source": [
        "import pandas as pd\n",
        "import numpy as np\n",
        "from sklearn.model_selection import train_test_split\n",
        "from sklearn.preprocessing import LabelEncoder\n",
        "from sklearn.ensemble import RandomForestClassifier\n",
        "from sklearn.metrics import accuracy_score, confusion_matrix\n",
        "import joblib\n",
        "import matplotlib.pyplot as plt\n",
        "import seaborn as sns\n",
        "from sklearn.metrics import accuracy_score, make_scorer\n",
        "from sklearn.model_selection import train_test_split, RandomizedSearchCV\n",
        "from sklearn.metrics import classification_report, confusion_matrix\n",
        "import warnings\n",
        "warnings.filterwarnings(\"ignore\")"
      ]
    },
    {
      "cell_type": "markdown",
      "metadata": {
        "id": "NxUzOM3JiwjV"
      },
      "source": [
        "## **Loading dataset**"
      ]
    },
    {
      "cell_type": "code",
      "execution_count": 3,
      "metadata": {
        "id": "LbMdN6Y9Yq1s"
      },
      "outputs": [],
      "source": [
        "dataset_path = '/content/drive/My Drive/Nutrition_recommendation_system/Chronic_disease_less.csv'\n",
        "df = pd.read_csv(dataset_path)"
      ]
    },
    {
      "cell_type": "code",
      "execution_count": 4,
      "metadata": {
        "colab": {
          "base_uri": "https://localhost:8080/",
          "height": 851
        },
        "id": "17kScRLkZTyq",
        "outputId": "54716c24-55ae-42f1-8129-a1faaf8f981e"
      },
      "outputs": [
        {
          "output_type": "execute_result",
          "data": {
            "text/plain": [
              "   Patient ID Disease Name  Gender  Age   BMI Smoking Alcohol Consumption  \\\n",
              "0           1       Asthma    Male   42  15.8      No                  No   \n",
              "1           2       Asthma  Female   61  22.8      No                 Yes   \n",
              "2           3       Asthma    Male   55  18.4      No                 Yes   \n",
              "3           4       Asthma  Female   55  38.5      No                 Yes   \n",
              "4           5       Asthma    Male   43  19.3      No                  No   \n",
              "5           6       Asthma    Male   44  21.8      No                 Yes   \n",
              "6           7       Asthma  Female   40  30.2     Yes                  No   \n",
              "7           8       Asthma    Male   42  26.0     Yes                 Yes   \n",
              "8           9       Asthma  Female   49  32.7      No                  No   \n",
              "9          10       Asthma  Female   63  29.9      No                  No   \n",
              "\n",
              "  Food Preference Food Allergies  Blood Glucose(mg/dL) Blood Pressure(mmHg)  \\\n",
              "0  Non-Vegetarian        Seafood                 160.0              120/80    \n",
              "1  Non-Vegetarian        Seafood                 140.0              110/70    \n",
              "2           Vegan          Dairy                 200.0              120/80    \n",
              "3  Non-Vegetarian        Seafood                 160.0              120/80    \n",
              "4           Vegan        Seafood                   NaN              140/90    \n",
              "5      Vegetarian           Nuts                 160.0              120/80    \n",
              "6  Non-Vegetarian         Gluten                 200.0              120/80    \n",
              "7  Non-Vegetarian         Gluten                 180.0              120/80    \n",
              "8           Vegan            NaN                 160.0              130/85    \n",
              "9      Vegetarian         Gluten                 160.0              140/90    \n",
              "\n",
              "              Symptoms Nutritional Requirement  Cholesterol Levels(mg/dL)  \\\n",
              "0      Chest tightness                     Low                        200   \n",
              "1             Swelling                Moderate                        200   \n",
              "2  Shortness of Breath                    High                        180   \n",
              "3  Shortness of Breath                Moderate                        200   \n",
              "4             Swelling                     Low                        250   \n",
              "5      Chest tightness                Moderate                        180   \n",
              "6             Swelling                Moderate                        220   \n",
              "7      Chest tightness                    High                        250   \n",
              "8              Fatigue                    High                        250   \n",
              "9      Chest tightness                     Low                        200   \n",
              "\n",
              "   Kidney Function (mg/dL)  Caloric Intake Hydration Level  \\\n",
              "0                      NaN          2000.0        Moderate   \n",
              "1                      0.9          1800.0        Moderate   \n",
              "2                      1.5          1200.0        Moderate   \n",
              "3                      1.5          2500.0        Moderate   \n",
              "4                      NaN          1500.0             Low   \n",
              "5                      1.5          1800.0        Moderate   \n",
              "6                      1.5          1200.0             Low   \n",
              "7                      NaN          1500.0             Low   \n",
              "8                      1.5          2200.0            High   \n",
              "9                      NaN          2200.0            High   \n",
              "\n",
              "                                  Meal  \n",
              "0  Chicken Biryani with Low-Fat Yogurt  \n",
              "1           Fish Curry with Brown Rice  \n",
              "2       Sweet Potato and Chickpea Stew  \n",
              "3  Chicken Biryani with Low-Fat Yogurt  \n",
              "4         Grilled Tofu with Brown Rice  \n",
              "5                    Vegetable Khichdi  \n",
              "6      Grilled Fish with Avocado Salad  \n",
              "7            Egg Salad with Vegetables  \n",
              "8       Sweet Potato and Chickpea Stew  \n",
              "9            Methi Paratha with Yogurt  "
            ],
            "text/html": [
              "\n",
              "  <div id=\"df-125974e9-4fb1-4f41-a742-fa8254922f67\" class=\"colab-df-container\">\n",
              "    <div>\n",
              "<style scoped>\n",
              "    .dataframe tbody tr th:only-of-type {\n",
              "        vertical-align: middle;\n",
              "    }\n",
              "\n",
              "    .dataframe tbody tr th {\n",
              "        vertical-align: top;\n",
              "    }\n",
              "\n",
              "    .dataframe thead th {\n",
              "        text-align: right;\n",
              "    }\n",
              "</style>\n",
              "<table border=\"1\" class=\"dataframe\">\n",
              "  <thead>\n",
              "    <tr style=\"text-align: right;\">\n",
              "      <th></th>\n",
              "      <th>Patient ID</th>\n",
              "      <th>Disease Name</th>\n",
              "      <th>Gender</th>\n",
              "      <th>Age</th>\n",
              "      <th>BMI</th>\n",
              "      <th>Smoking</th>\n",
              "      <th>Alcohol Consumption</th>\n",
              "      <th>Food Preference</th>\n",
              "      <th>Food Allergies</th>\n",
              "      <th>Blood Glucose(mg/dL)</th>\n",
              "      <th>Blood Pressure(mmHg)</th>\n",
              "      <th>Symptoms</th>\n",
              "      <th>Nutritional Requirement</th>\n",
              "      <th>Cholesterol Levels(mg/dL)</th>\n",
              "      <th>Kidney Function (mg/dL)</th>\n",
              "      <th>Caloric Intake</th>\n",
              "      <th>Hydration Level</th>\n",
              "      <th>Meal</th>\n",
              "    </tr>\n",
              "  </thead>\n",
              "  <tbody>\n",
              "    <tr>\n",
              "      <th>0</th>\n",
              "      <td>1</td>\n",
              "      <td>Asthma</td>\n",
              "      <td>Male</td>\n",
              "      <td>42</td>\n",
              "      <td>15.8</td>\n",
              "      <td>No</td>\n",
              "      <td>No</td>\n",
              "      <td>Non-Vegetarian</td>\n",
              "      <td>Seafood</td>\n",
              "      <td>160.0</td>\n",
              "      <td>120/80</td>\n",
              "      <td>Chest tightness</td>\n",
              "      <td>Low</td>\n",
              "      <td>200</td>\n",
              "      <td>NaN</td>\n",
              "      <td>2000.0</td>\n",
              "      <td>Moderate</td>\n",
              "      <td>Chicken Biryani with Low-Fat Yogurt</td>\n",
              "    </tr>\n",
              "    <tr>\n",
              "      <th>1</th>\n",
              "      <td>2</td>\n",
              "      <td>Asthma</td>\n",
              "      <td>Female</td>\n",
              "      <td>61</td>\n",
              "      <td>22.8</td>\n",
              "      <td>No</td>\n",
              "      <td>Yes</td>\n",
              "      <td>Non-Vegetarian</td>\n",
              "      <td>Seafood</td>\n",
              "      <td>140.0</td>\n",
              "      <td>110/70</td>\n",
              "      <td>Swelling</td>\n",
              "      <td>Moderate</td>\n",
              "      <td>200</td>\n",
              "      <td>0.9</td>\n",
              "      <td>1800.0</td>\n",
              "      <td>Moderate</td>\n",
              "      <td>Fish Curry with Brown Rice</td>\n",
              "    </tr>\n",
              "    <tr>\n",
              "      <th>2</th>\n",
              "      <td>3</td>\n",
              "      <td>Asthma</td>\n",
              "      <td>Male</td>\n",
              "      <td>55</td>\n",
              "      <td>18.4</td>\n",
              "      <td>No</td>\n",
              "      <td>Yes</td>\n",
              "      <td>Vegan</td>\n",
              "      <td>Dairy</td>\n",
              "      <td>200.0</td>\n",
              "      <td>120/80</td>\n",
              "      <td>Shortness of Breath</td>\n",
              "      <td>High</td>\n",
              "      <td>180</td>\n",
              "      <td>1.5</td>\n",
              "      <td>1200.0</td>\n",
              "      <td>Moderate</td>\n",
              "      <td>Sweet Potato and Chickpea Stew</td>\n",
              "    </tr>\n",
              "    <tr>\n",
              "      <th>3</th>\n",
              "      <td>4</td>\n",
              "      <td>Asthma</td>\n",
              "      <td>Female</td>\n",
              "      <td>55</td>\n",
              "      <td>38.5</td>\n",
              "      <td>No</td>\n",
              "      <td>Yes</td>\n",
              "      <td>Non-Vegetarian</td>\n",
              "      <td>Seafood</td>\n",
              "      <td>160.0</td>\n",
              "      <td>120/80</td>\n",
              "      <td>Shortness of Breath</td>\n",
              "      <td>Moderate</td>\n",
              "      <td>200</td>\n",
              "      <td>1.5</td>\n",
              "      <td>2500.0</td>\n",
              "      <td>Moderate</td>\n",
              "      <td>Chicken Biryani with Low-Fat Yogurt</td>\n",
              "    </tr>\n",
              "    <tr>\n",
              "      <th>4</th>\n",
              "      <td>5</td>\n",
              "      <td>Asthma</td>\n",
              "      <td>Male</td>\n",
              "      <td>43</td>\n",
              "      <td>19.3</td>\n",
              "      <td>No</td>\n",
              "      <td>No</td>\n",
              "      <td>Vegan</td>\n",
              "      <td>Seafood</td>\n",
              "      <td>NaN</td>\n",
              "      <td>140/90</td>\n",
              "      <td>Swelling</td>\n",
              "      <td>Low</td>\n",
              "      <td>250</td>\n",
              "      <td>NaN</td>\n",
              "      <td>1500.0</td>\n",
              "      <td>Low</td>\n",
              "      <td>Grilled Tofu with Brown Rice</td>\n",
              "    </tr>\n",
              "    <tr>\n",
              "      <th>5</th>\n",
              "      <td>6</td>\n",
              "      <td>Asthma</td>\n",
              "      <td>Male</td>\n",
              "      <td>44</td>\n",
              "      <td>21.8</td>\n",
              "      <td>No</td>\n",
              "      <td>Yes</td>\n",
              "      <td>Vegetarian</td>\n",
              "      <td>Nuts</td>\n",
              "      <td>160.0</td>\n",
              "      <td>120/80</td>\n",
              "      <td>Chest tightness</td>\n",
              "      <td>Moderate</td>\n",
              "      <td>180</td>\n",
              "      <td>1.5</td>\n",
              "      <td>1800.0</td>\n",
              "      <td>Moderate</td>\n",
              "      <td>Vegetable Khichdi</td>\n",
              "    </tr>\n",
              "    <tr>\n",
              "      <th>6</th>\n",
              "      <td>7</td>\n",
              "      <td>Asthma</td>\n",
              "      <td>Female</td>\n",
              "      <td>40</td>\n",
              "      <td>30.2</td>\n",
              "      <td>Yes</td>\n",
              "      <td>No</td>\n",
              "      <td>Non-Vegetarian</td>\n",
              "      <td>Gluten</td>\n",
              "      <td>200.0</td>\n",
              "      <td>120/80</td>\n",
              "      <td>Swelling</td>\n",
              "      <td>Moderate</td>\n",
              "      <td>220</td>\n",
              "      <td>1.5</td>\n",
              "      <td>1200.0</td>\n",
              "      <td>Low</td>\n",
              "      <td>Grilled Fish with Avocado Salad</td>\n",
              "    </tr>\n",
              "    <tr>\n",
              "      <th>7</th>\n",
              "      <td>8</td>\n",
              "      <td>Asthma</td>\n",
              "      <td>Male</td>\n",
              "      <td>42</td>\n",
              "      <td>26.0</td>\n",
              "      <td>Yes</td>\n",
              "      <td>Yes</td>\n",
              "      <td>Non-Vegetarian</td>\n",
              "      <td>Gluten</td>\n",
              "      <td>180.0</td>\n",
              "      <td>120/80</td>\n",
              "      <td>Chest tightness</td>\n",
              "      <td>High</td>\n",
              "      <td>250</td>\n",
              "      <td>NaN</td>\n",
              "      <td>1500.0</td>\n",
              "      <td>Low</td>\n",
              "      <td>Egg Salad with Vegetables</td>\n",
              "    </tr>\n",
              "    <tr>\n",
              "      <th>8</th>\n",
              "      <td>9</td>\n",
              "      <td>Asthma</td>\n",
              "      <td>Female</td>\n",
              "      <td>49</td>\n",
              "      <td>32.7</td>\n",
              "      <td>No</td>\n",
              "      <td>No</td>\n",
              "      <td>Vegan</td>\n",
              "      <td>NaN</td>\n",
              "      <td>160.0</td>\n",
              "      <td>130/85</td>\n",
              "      <td>Fatigue</td>\n",
              "      <td>High</td>\n",
              "      <td>250</td>\n",
              "      <td>1.5</td>\n",
              "      <td>2200.0</td>\n",
              "      <td>High</td>\n",
              "      <td>Sweet Potato and Chickpea Stew</td>\n",
              "    </tr>\n",
              "    <tr>\n",
              "      <th>9</th>\n",
              "      <td>10</td>\n",
              "      <td>Asthma</td>\n",
              "      <td>Female</td>\n",
              "      <td>63</td>\n",
              "      <td>29.9</td>\n",
              "      <td>No</td>\n",
              "      <td>No</td>\n",
              "      <td>Vegetarian</td>\n",
              "      <td>Gluten</td>\n",
              "      <td>160.0</td>\n",
              "      <td>140/90</td>\n",
              "      <td>Chest tightness</td>\n",
              "      <td>Low</td>\n",
              "      <td>200</td>\n",
              "      <td>NaN</td>\n",
              "      <td>2200.0</td>\n",
              "      <td>High</td>\n",
              "      <td>Methi Paratha with Yogurt</td>\n",
              "    </tr>\n",
              "  </tbody>\n",
              "</table>\n",
              "</div>\n",
              "    <div class=\"colab-df-buttons\">\n",
              "\n",
              "  <div class=\"colab-df-container\">\n",
              "    <button class=\"colab-df-convert\" onclick=\"convertToInteractive('df-125974e9-4fb1-4f41-a742-fa8254922f67')\"\n",
              "            title=\"Convert this dataframe to an interactive table.\"\n",
              "            style=\"display:none;\">\n",
              "\n",
              "  <svg xmlns=\"http://www.w3.org/2000/svg\" height=\"24px\" viewBox=\"0 -960 960 960\">\n",
              "    <path d=\"M120-120v-720h720v720H120Zm60-500h600v-160H180v160Zm220 220h160v-160H400v160Zm0 220h160v-160H400v160ZM180-400h160v-160H180v160Zm440 0h160v-160H620v160ZM180-180h160v-160H180v160Zm440 0h160v-160H620v160Z\"/>\n",
              "  </svg>\n",
              "    </button>\n",
              "\n",
              "  <style>\n",
              "    .colab-df-container {\n",
              "      display:flex;\n",
              "      gap: 12px;\n",
              "    }\n",
              "\n",
              "    .colab-df-convert {\n",
              "      background-color: #E8F0FE;\n",
              "      border: none;\n",
              "      border-radius: 50%;\n",
              "      cursor: pointer;\n",
              "      display: none;\n",
              "      fill: #1967D2;\n",
              "      height: 32px;\n",
              "      padding: 0 0 0 0;\n",
              "      width: 32px;\n",
              "    }\n",
              "\n",
              "    .colab-df-convert:hover {\n",
              "      background-color: #E2EBFA;\n",
              "      box-shadow: 0px 1px 2px rgba(60, 64, 67, 0.3), 0px 1px 3px 1px rgba(60, 64, 67, 0.15);\n",
              "      fill: #174EA6;\n",
              "    }\n",
              "\n",
              "    .colab-df-buttons div {\n",
              "      margin-bottom: 4px;\n",
              "    }\n",
              "\n",
              "    [theme=dark] .colab-df-convert {\n",
              "      background-color: #3B4455;\n",
              "      fill: #D2E3FC;\n",
              "    }\n",
              "\n",
              "    [theme=dark] .colab-df-convert:hover {\n",
              "      background-color: #434B5C;\n",
              "      box-shadow: 0px 1px 3px 1px rgba(0, 0, 0, 0.15);\n",
              "      filter: drop-shadow(0px 1px 2px rgba(0, 0, 0, 0.3));\n",
              "      fill: #FFFFFF;\n",
              "    }\n",
              "  </style>\n",
              "\n",
              "    <script>\n",
              "      const buttonEl =\n",
              "        document.querySelector('#df-125974e9-4fb1-4f41-a742-fa8254922f67 button.colab-df-convert');\n",
              "      buttonEl.style.display =\n",
              "        google.colab.kernel.accessAllowed ? 'block' : 'none';\n",
              "\n",
              "      async function convertToInteractive(key) {\n",
              "        const element = document.querySelector('#df-125974e9-4fb1-4f41-a742-fa8254922f67');\n",
              "        const dataTable =\n",
              "          await google.colab.kernel.invokeFunction('convertToInteractive',\n",
              "                                                    [key], {});\n",
              "        if (!dataTable) return;\n",
              "\n",
              "        const docLinkHtml = 'Like what you see? Visit the ' +\n",
              "          '<a target=\"_blank\" href=https://colab.research.google.com/notebooks/data_table.ipynb>data table notebook</a>'\n",
              "          + ' to learn more about interactive tables.';\n",
              "        element.innerHTML = '';\n",
              "        dataTable['output_type'] = 'display_data';\n",
              "        await google.colab.output.renderOutput(dataTable, element);\n",
              "        const docLink = document.createElement('div');\n",
              "        docLink.innerHTML = docLinkHtml;\n",
              "        element.appendChild(docLink);\n",
              "      }\n",
              "    </script>\n",
              "  </div>\n",
              "\n",
              "\n",
              "<div id=\"df-d1787db0-8533-46f3-add9-2e4f0393889b\">\n",
              "  <button class=\"colab-df-quickchart\" onclick=\"quickchart('df-d1787db0-8533-46f3-add9-2e4f0393889b')\"\n",
              "            title=\"Suggest charts\"\n",
              "            style=\"display:none;\">\n",
              "\n",
              "<svg xmlns=\"http://www.w3.org/2000/svg\" height=\"24px\"viewBox=\"0 0 24 24\"\n",
              "     width=\"24px\">\n",
              "    <g>\n",
              "        <path d=\"M19 3H5c-1.1 0-2 .9-2 2v14c0 1.1.9 2 2 2h14c1.1 0 2-.9 2-2V5c0-1.1-.9-2-2-2zM9 17H7v-7h2v7zm4 0h-2V7h2v10zm4 0h-2v-4h2v4z\"/>\n",
              "    </g>\n",
              "</svg>\n",
              "  </button>\n",
              "\n",
              "<style>\n",
              "  .colab-df-quickchart {\n",
              "      --bg-color: #E8F0FE;\n",
              "      --fill-color: #1967D2;\n",
              "      --hover-bg-color: #E2EBFA;\n",
              "      --hover-fill-color: #174EA6;\n",
              "      --disabled-fill-color: #AAA;\n",
              "      --disabled-bg-color: #DDD;\n",
              "  }\n",
              "\n",
              "  [theme=dark] .colab-df-quickchart {\n",
              "      --bg-color: #3B4455;\n",
              "      --fill-color: #D2E3FC;\n",
              "      --hover-bg-color: #434B5C;\n",
              "      --hover-fill-color: #FFFFFF;\n",
              "      --disabled-bg-color: #3B4455;\n",
              "      --disabled-fill-color: #666;\n",
              "  }\n",
              "\n",
              "  .colab-df-quickchart {\n",
              "    background-color: var(--bg-color);\n",
              "    border: none;\n",
              "    border-radius: 50%;\n",
              "    cursor: pointer;\n",
              "    display: none;\n",
              "    fill: var(--fill-color);\n",
              "    height: 32px;\n",
              "    padding: 0;\n",
              "    width: 32px;\n",
              "  }\n",
              "\n",
              "  .colab-df-quickchart:hover {\n",
              "    background-color: var(--hover-bg-color);\n",
              "    box-shadow: 0 1px 2px rgba(60, 64, 67, 0.3), 0 1px 3px 1px rgba(60, 64, 67, 0.15);\n",
              "    fill: var(--button-hover-fill-color);\n",
              "  }\n",
              "\n",
              "  .colab-df-quickchart-complete:disabled,\n",
              "  .colab-df-quickchart-complete:disabled:hover {\n",
              "    background-color: var(--disabled-bg-color);\n",
              "    fill: var(--disabled-fill-color);\n",
              "    box-shadow: none;\n",
              "  }\n",
              "\n",
              "  .colab-df-spinner {\n",
              "    border: 2px solid var(--fill-color);\n",
              "    border-color: transparent;\n",
              "    border-bottom-color: var(--fill-color);\n",
              "    animation:\n",
              "      spin 1s steps(1) infinite;\n",
              "  }\n",
              "\n",
              "  @keyframes spin {\n",
              "    0% {\n",
              "      border-color: transparent;\n",
              "      border-bottom-color: var(--fill-color);\n",
              "      border-left-color: var(--fill-color);\n",
              "    }\n",
              "    20% {\n",
              "      border-color: transparent;\n",
              "      border-left-color: var(--fill-color);\n",
              "      border-top-color: var(--fill-color);\n",
              "    }\n",
              "    30% {\n",
              "      border-color: transparent;\n",
              "      border-left-color: var(--fill-color);\n",
              "      border-top-color: var(--fill-color);\n",
              "      border-right-color: var(--fill-color);\n",
              "    }\n",
              "    40% {\n",
              "      border-color: transparent;\n",
              "      border-right-color: var(--fill-color);\n",
              "      border-top-color: var(--fill-color);\n",
              "    }\n",
              "    60% {\n",
              "      border-color: transparent;\n",
              "      border-right-color: var(--fill-color);\n",
              "    }\n",
              "    80% {\n",
              "      border-color: transparent;\n",
              "      border-right-color: var(--fill-color);\n",
              "      border-bottom-color: var(--fill-color);\n",
              "    }\n",
              "    90% {\n",
              "      border-color: transparent;\n",
              "      border-bottom-color: var(--fill-color);\n",
              "    }\n",
              "  }\n",
              "</style>\n",
              "\n",
              "  <script>\n",
              "    async function quickchart(key) {\n",
              "      const quickchartButtonEl =\n",
              "        document.querySelector('#' + key + ' button');\n",
              "      quickchartButtonEl.disabled = true;  // To prevent multiple clicks.\n",
              "      quickchartButtonEl.classList.add('colab-df-spinner');\n",
              "      try {\n",
              "        const charts = await google.colab.kernel.invokeFunction(\n",
              "            'suggestCharts', [key], {});\n",
              "      } catch (error) {\n",
              "        console.error('Error during call to suggestCharts:', error);\n",
              "      }\n",
              "      quickchartButtonEl.classList.remove('colab-df-spinner');\n",
              "      quickchartButtonEl.classList.add('colab-df-quickchart-complete');\n",
              "    }\n",
              "    (() => {\n",
              "      let quickchartButtonEl =\n",
              "        document.querySelector('#df-d1787db0-8533-46f3-add9-2e4f0393889b button');\n",
              "      quickchartButtonEl.style.display =\n",
              "        google.colab.kernel.accessAllowed ? 'block' : 'none';\n",
              "    })();\n",
              "  </script>\n",
              "</div>\n",
              "\n",
              "    </div>\n",
              "  </div>\n"
            ],
            "application/vnd.google.colaboratory.intrinsic+json": {
              "type": "dataframe",
              "variable_name": "df",
              "summary": "{\n  \"name\": \"df\",\n  \"rows\": 16283,\n  \"fields\": [\n    {\n      \"column\": \"Patient ID\",\n      \"properties\": {\n        \"dtype\": \"number\",\n        \"std\": 4700,\n        \"min\": 1,\n        \"max\": 16283,\n        \"num_unique_values\": 16283,\n        \"samples\": [\n          11960,\n          15162,\n          1656\n        ],\n        \"semantic_type\": \"\",\n        \"description\": \"\"\n      }\n    },\n    {\n      \"column\": \"Disease Name\",\n      \"properties\": {\n        \"dtype\": \"category\",\n        \"num_unique_values\": 5,\n        \"samples\": [\n          \"Diabetes\",\n          \"Chronic Liver Disease\",\n          \"Cardiovascular Disease\"\n        ],\n        \"semantic_type\": \"\",\n        \"description\": \"\"\n      }\n    },\n    {\n      \"column\": \"Gender\",\n      \"properties\": {\n        \"dtype\": \"category\",\n        \"num_unique_values\": 2,\n        \"samples\": [\n          \"Female\",\n          \"Male\"\n        ],\n        \"semantic_type\": \"\",\n        \"description\": \"\"\n      }\n    },\n    {\n      \"column\": \"Age\",\n      \"properties\": {\n        \"dtype\": \"number\",\n        \"std\": 7,\n        \"min\": 40,\n        \"max\": 65,\n        \"num_unique_values\": 26,\n        \"samples\": [\n          57,\n          47\n        ],\n        \"semantic_type\": \"\",\n        \"description\": \"\"\n      }\n    },\n    {\n      \"column\": \"BMI\",\n      \"properties\": {\n        \"dtype\": \"number\",\n        \"std\": 6.844310213268175,\n        \"min\": 15.0,\n        \"max\": 95.2,\n        \"num_unique_values\": 275,\n        \"samples\": [\n          16.2,\n          39.7\n        ],\n        \"semantic_type\": \"\",\n        \"description\": \"\"\n      }\n    },\n    {\n      \"column\": \"Smoking\",\n      \"properties\": {\n        \"dtype\": \"category\",\n        \"num_unique_values\": 2,\n        \"samples\": [\n          \"Yes\",\n          \"No\"\n        ],\n        \"semantic_type\": \"\",\n        \"description\": \"\"\n      }\n    },\n    {\n      \"column\": \"Alcohol Consumption\",\n      \"properties\": {\n        \"dtype\": \"category\",\n        \"num_unique_values\": 2,\n        \"samples\": [\n          \"Yes\",\n          \"No\"\n        ],\n        \"semantic_type\": \"\",\n        \"description\": \"\"\n      }\n    },\n    {\n      \"column\": \"Food Preference\",\n      \"properties\": {\n        \"dtype\": \"category\",\n        \"num_unique_values\": 3,\n        \"samples\": [\n          \"Non-Vegetarian\",\n          \"Vegan\"\n        ],\n        \"semantic_type\": \"\",\n        \"description\": \"\"\n      }\n    },\n    {\n      \"column\": \"Food Allergies\",\n      \"properties\": {\n        \"dtype\": \"category\",\n        \"num_unique_values\": 10,\n        \"samples\": [\n          \"Soy\",\n          \"Dairy\"\n        ],\n        \"semantic_type\": \"\",\n        \"description\": \"\"\n      }\n    },\n    {\n      \"column\": \"Blood Glucose(mg/dL)\",\n      \"properties\": {\n        \"dtype\": \"number\",\n        \"std\": 26.59516308207586,\n        \"min\": 70.0,\n        \"max\": 200.0,\n        \"num_unique_values\": 87,\n        \"samples\": [\n          70.0,\n          160.0\n        ],\n        \"semantic_type\": \"\",\n        \"description\": \"\"\n      }\n    },\n    {\n      \"column\": \"Blood Pressure(mmHg)\",\n      \"properties\": {\n        \"dtype\": \"category\",\n        \"num_unique_values\": 928,\n        \"samples\": [\n          \"98/68\",\n          \"114/70\"\n        ],\n        \"semantic_type\": \"\",\n        \"description\": \"\"\n      }\n    },\n    {\n      \"column\": \"Symptoms\",\n      \"properties\": {\n        \"dtype\": \"category\",\n        \"num_unique_values\": 22,\n        \"samples\": [\n          \"Chest tightness\",\n          \"Dizziness\"\n        ],\n        \"semantic_type\": \"\",\n        \"description\": \"\"\n      }\n    },\n    {\n      \"column\": \"Nutritional Requirement\",\n      \"properties\": {\n        \"dtype\": \"category\",\n        \"num_unique_values\": 3,\n        \"samples\": [\n          \"Low\",\n          \"Moderate\"\n        ],\n        \"semantic_type\": \"\",\n        \"description\": \"\"\n      }\n    },\n    {\n      \"column\": \"Cholesterol Levels(mg/dL)\",\n      \"properties\": {\n        \"dtype\": \"number\",\n        \"std\": 27,\n        \"min\": 119,\n        \"max\": 250,\n        \"num_unique_values\": 132,\n        \"samples\": [\n          170,\n          204\n        ],\n        \"semantic_type\": \"\",\n        \"description\": \"\"\n      }\n    },\n    {\n      \"column\": \"Kidney Function (mg/dL)\",\n      \"properties\": {\n        \"dtype\": \"number\",\n        \"std\": 0.563893746127491,\n        \"min\": 0.5,\n        \"max\": 4.99,\n        \"num_unique_values\": 351,\n        \"samples\": [\n          0.87,\n          3.13\n        ],\n        \"semantic_type\": \"\",\n        \"description\": \"\"\n      }\n    },\n    {\n      \"column\": \"Caloric Intake\",\n      \"properties\": {\n        \"dtype\": \"number\",\n        \"std\": 379.6960817985437,\n        \"min\": 471.0,\n        \"max\": 5000.0,\n        \"num_unique_values\": 1125,\n        \"samples\": [\n          779.0,\n          512.0\n        ],\n        \"semantic_type\": \"\",\n        \"description\": \"\"\n      }\n    },\n    {\n      \"column\": \"Hydration Level\",\n      \"properties\": {\n        \"dtype\": \"category\",\n        \"num_unique_values\": 3,\n        \"samples\": [\n          \"Moderate\",\n          \"Low\"\n        ],\n        \"semantic_type\": \"\",\n        \"description\": \"\"\n      }\n    },\n    {\n      \"column\": \"Meal\",\n      \"properties\": {\n        \"dtype\": \"category\",\n        \"num_unique_values\": 48,\n        \"samples\": [\n          \"Vegan salad with tofu\",\n          \"Chana Masala\"\n        ],\n        \"semantic_type\": \"\",\n        \"description\": \"\"\n      }\n    }\n  ]\n}"
            }
          },
          "metadata": {},
          "execution_count": 4
        }
      ],
      "source": [
        "df.head(10)"
      ]
    },
    {
      "cell_type": "code",
      "execution_count": 5,
      "metadata": {
        "colab": {
          "base_uri": "https://localhost:8080/"
        },
        "id": "yQOcxg2aZXLj",
        "outputId": "63cb7cba-bf21-4936-fd04-189a65c523b0"
      },
      "outputs": [
        {
          "output_type": "execute_result",
          "data": {
            "text/plain": [
              "(16283, 18)"
            ]
          },
          "metadata": {},
          "execution_count": 5
        }
      ],
      "source": [
        "df.shape"
      ]
    },
    {
      "cell_type": "code",
      "execution_count": 6,
      "metadata": {
        "colab": {
          "base_uri": "https://localhost:8080/",
          "height": 300
        },
        "id": "8A7470jXZtg0",
        "outputId": "68618b8f-2ecb-4256-9b18-b19ac34aff73"
      },
      "outputs": [
        {
          "output_type": "execute_result",
          "data": {
            "text/plain": [
              "         Patient ID           Age           BMI  Blood Glucose(mg/dL)  \\\n",
              "count  16283.000000  16283.000000  16283.000000          15483.000000   \n",
              "mean    8142.000000     52.595038     27.469226            166.504812   \n",
              "std     4700.641552      7.538110      6.844310             26.595163   \n",
              "min        1.000000     40.000000     15.000000             70.000000   \n",
              "25%     4071.500000     46.000000     21.900000            140.000000   \n",
              "50%     8142.000000     53.000000     27.400000            160.000000   \n",
              "75%    12212.500000     59.000000     32.900000            180.000000   \n",
              "max    16283.000000     65.000000     95.200000            200.000000   \n",
              "\n",
              "       Cholesterol Levels(mg/dL)  Kidney Function (mg/dL)  Caloric Intake  \n",
              "count               16283.000000             11275.000000    16283.000000  \n",
              "mean                  188.165756                 1.288831     1884.856261  \n",
              "std                    27.465248                 0.563894      379.696082  \n",
              "min                   119.000000                 0.500000      471.000000  \n",
              "25%                   170.000000                 0.900000     1800.000000  \n",
              "50%                   186.000000                 1.380000     2000.000000  \n",
              "75%                   210.000000                 1.500000     2100.000000  \n",
              "max                   250.000000                 4.990000     5000.000000  "
            ],
            "text/html": [
              "\n",
              "  <div id=\"df-542eefcd-079b-4f0d-8b3a-9bd242c29cc9\" class=\"colab-df-container\">\n",
              "    <div>\n",
              "<style scoped>\n",
              "    .dataframe tbody tr th:only-of-type {\n",
              "        vertical-align: middle;\n",
              "    }\n",
              "\n",
              "    .dataframe tbody tr th {\n",
              "        vertical-align: top;\n",
              "    }\n",
              "\n",
              "    .dataframe thead th {\n",
              "        text-align: right;\n",
              "    }\n",
              "</style>\n",
              "<table border=\"1\" class=\"dataframe\">\n",
              "  <thead>\n",
              "    <tr style=\"text-align: right;\">\n",
              "      <th></th>\n",
              "      <th>Patient ID</th>\n",
              "      <th>Age</th>\n",
              "      <th>BMI</th>\n",
              "      <th>Blood Glucose(mg/dL)</th>\n",
              "      <th>Cholesterol Levels(mg/dL)</th>\n",
              "      <th>Kidney Function (mg/dL)</th>\n",
              "      <th>Caloric Intake</th>\n",
              "    </tr>\n",
              "  </thead>\n",
              "  <tbody>\n",
              "    <tr>\n",
              "      <th>count</th>\n",
              "      <td>16283.000000</td>\n",
              "      <td>16283.000000</td>\n",
              "      <td>16283.000000</td>\n",
              "      <td>15483.000000</td>\n",
              "      <td>16283.000000</td>\n",
              "      <td>11275.000000</td>\n",
              "      <td>16283.000000</td>\n",
              "    </tr>\n",
              "    <tr>\n",
              "      <th>mean</th>\n",
              "      <td>8142.000000</td>\n",
              "      <td>52.595038</td>\n",
              "      <td>27.469226</td>\n",
              "      <td>166.504812</td>\n",
              "      <td>188.165756</td>\n",
              "      <td>1.288831</td>\n",
              "      <td>1884.856261</td>\n",
              "    </tr>\n",
              "    <tr>\n",
              "      <th>std</th>\n",
              "      <td>4700.641552</td>\n",
              "      <td>7.538110</td>\n",
              "      <td>6.844310</td>\n",
              "      <td>26.595163</td>\n",
              "      <td>27.465248</td>\n",
              "      <td>0.563894</td>\n",
              "      <td>379.696082</td>\n",
              "    </tr>\n",
              "    <tr>\n",
              "      <th>min</th>\n",
              "      <td>1.000000</td>\n",
              "      <td>40.000000</td>\n",
              "      <td>15.000000</td>\n",
              "      <td>70.000000</td>\n",
              "      <td>119.000000</td>\n",
              "      <td>0.500000</td>\n",
              "      <td>471.000000</td>\n",
              "    </tr>\n",
              "    <tr>\n",
              "      <th>25%</th>\n",
              "      <td>4071.500000</td>\n",
              "      <td>46.000000</td>\n",
              "      <td>21.900000</td>\n",
              "      <td>140.000000</td>\n",
              "      <td>170.000000</td>\n",
              "      <td>0.900000</td>\n",
              "      <td>1800.000000</td>\n",
              "    </tr>\n",
              "    <tr>\n",
              "      <th>50%</th>\n",
              "      <td>8142.000000</td>\n",
              "      <td>53.000000</td>\n",
              "      <td>27.400000</td>\n",
              "      <td>160.000000</td>\n",
              "      <td>186.000000</td>\n",
              "      <td>1.380000</td>\n",
              "      <td>2000.000000</td>\n",
              "    </tr>\n",
              "    <tr>\n",
              "      <th>75%</th>\n",
              "      <td>12212.500000</td>\n",
              "      <td>59.000000</td>\n",
              "      <td>32.900000</td>\n",
              "      <td>180.000000</td>\n",
              "      <td>210.000000</td>\n",
              "      <td>1.500000</td>\n",
              "      <td>2100.000000</td>\n",
              "    </tr>\n",
              "    <tr>\n",
              "      <th>max</th>\n",
              "      <td>16283.000000</td>\n",
              "      <td>65.000000</td>\n",
              "      <td>95.200000</td>\n",
              "      <td>200.000000</td>\n",
              "      <td>250.000000</td>\n",
              "      <td>4.990000</td>\n",
              "      <td>5000.000000</td>\n",
              "    </tr>\n",
              "  </tbody>\n",
              "</table>\n",
              "</div>\n",
              "    <div class=\"colab-df-buttons\">\n",
              "\n",
              "  <div class=\"colab-df-container\">\n",
              "    <button class=\"colab-df-convert\" onclick=\"convertToInteractive('df-542eefcd-079b-4f0d-8b3a-9bd242c29cc9')\"\n",
              "            title=\"Convert this dataframe to an interactive table.\"\n",
              "            style=\"display:none;\">\n",
              "\n",
              "  <svg xmlns=\"http://www.w3.org/2000/svg\" height=\"24px\" viewBox=\"0 -960 960 960\">\n",
              "    <path d=\"M120-120v-720h720v720H120Zm60-500h600v-160H180v160Zm220 220h160v-160H400v160Zm0 220h160v-160H400v160ZM180-400h160v-160H180v160Zm440 0h160v-160H620v160ZM180-180h160v-160H180v160Zm440 0h160v-160H620v160Z\"/>\n",
              "  </svg>\n",
              "    </button>\n",
              "\n",
              "  <style>\n",
              "    .colab-df-container {\n",
              "      display:flex;\n",
              "      gap: 12px;\n",
              "    }\n",
              "\n",
              "    .colab-df-convert {\n",
              "      background-color: #E8F0FE;\n",
              "      border: none;\n",
              "      border-radius: 50%;\n",
              "      cursor: pointer;\n",
              "      display: none;\n",
              "      fill: #1967D2;\n",
              "      height: 32px;\n",
              "      padding: 0 0 0 0;\n",
              "      width: 32px;\n",
              "    }\n",
              "\n",
              "    .colab-df-convert:hover {\n",
              "      background-color: #E2EBFA;\n",
              "      box-shadow: 0px 1px 2px rgba(60, 64, 67, 0.3), 0px 1px 3px 1px rgba(60, 64, 67, 0.15);\n",
              "      fill: #174EA6;\n",
              "    }\n",
              "\n",
              "    .colab-df-buttons div {\n",
              "      margin-bottom: 4px;\n",
              "    }\n",
              "\n",
              "    [theme=dark] .colab-df-convert {\n",
              "      background-color: #3B4455;\n",
              "      fill: #D2E3FC;\n",
              "    }\n",
              "\n",
              "    [theme=dark] .colab-df-convert:hover {\n",
              "      background-color: #434B5C;\n",
              "      box-shadow: 0px 1px 3px 1px rgba(0, 0, 0, 0.15);\n",
              "      filter: drop-shadow(0px 1px 2px rgba(0, 0, 0, 0.3));\n",
              "      fill: #FFFFFF;\n",
              "    }\n",
              "  </style>\n",
              "\n",
              "    <script>\n",
              "      const buttonEl =\n",
              "        document.querySelector('#df-542eefcd-079b-4f0d-8b3a-9bd242c29cc9 button.colab-df-convert');\n",
              "      buttonEl.style.display =\n",
              "        google.colab.kernel.accessAllowed ? 'block' : 'none';\n",
              "\n",
              "      async function convertToInteractive(key) {\n",
              "        const element = document.querySelector('#df-542eefcd-079b-4f0d-8b3a-9bd242c29cc9');\n",
              "        const dataTable =\n",
              "          await google.colab.kernel.invokeFunction('convertToInteractive',\n",
              "                                                    [key], {});\n",
              "        if (!dataTable) return;\n",
              "\n",
              "        const docLinkHtml = 'Like what you see? Visit the ' +\n",
              "          '<a target=\"_blank\" href=https://colab.research.google.com/notebooks/data_table.ipynb>data table notebook</a>'\n",
              "          + ' to learn more about interactive tables.';\n",
              "        element.innerHTML = '';\n",
              "        dataTable['output_type'] = 'display_data';\n",
              "        await google.colab.output.renderOutput(dataTable, element);\n",
              "        const docLink = document.createElement('div');\n",
              "        docLink.innerHTML = docLinkHtml;\n",
              "        element.appendChild(docLink);\n",
              "      }\n",
              "    </script>\n",
              "  </div>\n",
              "\n",
              "\n",
              "<div id=\"df-db4e802b-50b8-4d8a-9f74-4523dc10cba8\">\n",
              "  <button class=\"colab-df-quickchart\" onclick=\"quickchart('df-db4e802b-50b8-4d8a-9f74-4523dc10cba8')\"\n",
              "            title=\"Suggest charts\"\n",
              "            style=\"display:none;\">\n",
              "\n",
              "<svg xmlns=\"http://www.w3.org/2000/svg\" height=\"24px\"viewBox=\"0 0 24 24\"\n",
              "     width=\"24px\">\n",
              "    <g>\n",
              "        <path d=\"M19 3H5c-1.1 0-2 .9-2 2v14c0 1.1.9 2 2 2h14c1.1 0 2-.9 2-2V5c0-1.1-.9-2-2-2zM9 17H7v-7h2v7zm4 0h-2V7h2v10zm4 0h-2v-4h2v4z\"/>\n",
              "    </g>\n",
              "</svg>\n",
              "  </button>\n",
              "\n",
              "<style>\n",
              "  .colab-df-quickchart {\n",
              "      --bg-color: #E8F0FE;\n",
              "      --fill-color: #1967D2;\n",
              "      --hover-bg-color: #E2EBFA;\n",
              "      --hover-fill-color: #174EA6;\n",
              "      --disabled-fill-color: #AAA;\n",
              "      --disabled-bg-color: #DDD;\n",
              "  }\n",
              "\n",
              "  [theme=dark] .colab-df-quickchart {\n",
              "      --bg-color: #3B4455;\n",
              "      --fill-color: #D2E3FC;\n",
              "      --hover-bg-color: #434B5C;\n",
              "      --hover-fill-color: #FFFFFF;\n",
              "      --disabled-bg-color: #3B4455;\n",
              "      --disabled-fill-color: #666;\n",
              "  }\n",
              "\n",
              "  .colab-df-quickchart {\n",
              "    background-color: var(--bg-color);\n",
              "    border: none;\n",
              "    border-radius: 50%;\n",
              "    cursor: pointer;\n",
              "    display: none;\n",
              "    fill: var(--fill-color);\n",
              "    height: 32px;\n",
              "    padding: 0;\n",
              "    width: 32px;\n",
              "  }\n",
              "\n",
              "  .colab-df-quickchart:hover {\n",
              "    background-color: var(--hover-bg-color);\n",
              "    box-shadow: 0 1px 2px rgba(60, 64, 67, 0.3), 0 1px 3px 1px rgba(60, 64, 67, 0.15);\n",
              "    fill: var(--button-hover-fill-color);\n",
              "  }\n",
              "\n",
              "  .colab-df-quickchart-complete:disabled,\n",
              "  .colab-df-quickchart-complete:disabled:hover {\n",
              "    background-color: var(--disabled-bg-color);\n",
              "    fill: var(--disabled-fill-color);\n",
              "    box-shadow: none;\n",
              "  }\n",
              "\n",
              "  .colab-df-spinner {\n",
              "    border: 2px solid var(--fill-color);\n",
              "    border-color: transparent;\n",
              "    border-bottom-color: var(--fill-color);\n",
              "    animation:\n",
              "      spin 1s steps(1) infinite;\n",
              "  }\n",
              "\n",
              "  @keyframes spin {\n",
              "    0% {\n",
              "      border-color: transparent;\n",
              "      border-bottom-color: var(--fill-color);\n",
              "      border-left-color: var(--fill-color);\n",
              "    }\n",
              "    20% {\n",
              "      border-color: transparent;\n",
              "      border-left-color: var(--fill-color);\n",
              "      border-top-color: var(--fill-color);\n",
              "    }\n",
              "    30% {\n",
              "      border-color: transparent;\n",
              "      border-left-color: var(--fill-color);\n",
              "      border-top-color: var(--fill-color);\n",
              "      border-right-color: var(--fill-color);\n",
              "    }\n",
              "    40% {\n",
              "      border-color: transparent;\n",
              "      border-right-color: var(--fill-color);\n",
              "      border-top-color: var(--fill-color);\n",
              "    }\n",
              "    60% {\n",
              "      border-color: transparent;\n",
              "      border-right-color: var(--fill-color);\n",
              "    }\n",
              "    80% {\n",
              "      border-color: transparent;\n",
              "      border-right-color: var(--fill-color);\n",
              "      border-bottom-color: var(--fill-color);\n",
              "    }\n",
              "    90% {\n",
              "      border-color: transparent;\n",
              "      border-bottom-color: var(--fill-color);\n",
              "    }\n",
              "  }\n",
              "</style>\n",
              "\n",
              "  <script>\n",
              "    async function quickchart(key) {\n",
              "      const quickchartButtonEl =\n",
              "        document.querySelector('#' + key + ' button');\n",
              "      quickchartButtonEl.disabled = true;  // To prevent multiple clicks.\n",
              "      quickchartButtonEl.classList.add('colab-df-spinner');\n",
              "      try {\n",
              "        const charts = await google.colab.kernel.invokeFunction(\n",
              "            'suggestCharts', [key], {});\n",
              "      } catch (error) {\n",
              "        console.error('Error during call to suggestCharts:', error);\n",
              "      }\n",
              "      quickchartButtonEl.classList.remove('colab-df-spinner');\n",
              "      quickchartButtonEl.classList.add('colab-df-quickchart-complete');\n",
              "    }\n",
              "    (() => {\n",
              "      let quickchartButtonEl =\n",
              "        document.querySelector('#df-db4e802b-50b8-4d8a-9f74-4523dc10cba8 button');\n",
              "      quickchartButtonEl.style.display =\n",
              "        google.colab.kernel.accessAllowed ? 'block' : 'none';\n",
              "    })();\n",
              "  </script>\n",
              "</div>\n",
              "\n",
              "    </div>\n",
              "  </div>\n"
            ],
            "application/vnd.google.colaboratory.intrinsic+json": {
              "type": "dataframe",
              "summary": "{\n  \"name\": \"df\",\n  \"rows\": 8,\n  \"fields\": [\n    {\n      \"column\": \"Patient ID\",\n      \"properties\": {\n        \"dtype\": \"number\",\n        \"std\": 5868.167183180472,\n        \"min\": 1.0,\n        \"max\": 16283.0,\n        \"num_unique_values\": 6,\n        \"samples\": [\n          16283.0,\n          8142.0,\n          12212.5\n        ],\n        \"semantic_type\": \"\",\n        \"description\": \"\"\n      }\n    },\n    {\n      \"column\": \"Age\",\n      \"properties\": {\n        \"dtype\": \"number\",\n        \"std\": 5740.615768329618,\n        \"min\": 7.538109699472651,\n        \"max\": 16283.0,\n        \"num_unique_values\": 8,\n        \"samples\": [\n          52.5950377694528,\n          53.0,\n          16283.0\n        ],\n        \"semantic_type\": \"\",\n        \"description\": \"\"\n      }\n    },\n    {\n      \"column\": \"BMI\",\n      \"properties\": {\n        \"dtype\": \"number\",\n        \"std\": 5745.5219965977685,\n        \"min\": 6.844310213268175,\n        \"max\": 16283.0,\n        \"num_unique_values\": 8,\n        \"samples\": [\n          27.46922557268317,\n          27.4,\n          16283.0\n        ],\n        \"semantic_type\": \"\",\n        \"description\": \"\"\n      }\n    },\n    {\n      \"column\": \"Blood Glucose(mg/dL)\",\n      \"properties\": {\n        \"dtype\": \"number\",\n        \"std\": 5426.7475803681,\n        \"min\": 26.59516308207586,\n        \"max\": 15483.0,\n        \"num_unique_values\": 8,\n        \"samples\": [\n          166.50481172899308,\n          160.0,\n          15483.0\n        ],\n        \"semantic_type\": \"\",\n        \"description\": \"\"\n      }\n    },\n    {\n      \"column\": \"Cholesterol Levels(mg/dL)\",\n      \"properties\": {\n        \"dtype\": \"number\",\n        \"std\": 5699.1862883316435,\n        \"min\": 27.46524825168583,\n        \"max\": 16283.0,\n        \"num_unique_values\": 8,\n        \"samples\": [\n          188.1657556961248,\n          186.0,\n          16283.0\n        ],\n        \"semantic_type\": \"\",\n        \"description\": \"\"\n      }\n    },\n    {\n      \"column\": \"Kidney Function (mg/dL)\",\n      \"properties\": {\n        \"dtype\": \"number\",\n        \"std\": 3985.752954922048,\n        \"min\": 0.5,\n        \"max\": 11275.0,\n        \"num_unique_values\": 8,\n        \"samples\": [\n          1.288831042128603,\n          1.38,\n          11275.0\n        ],\n        \"semantic_type\": \"\",\n        \"description\": \"\"\n      }\n    },\n    {\n      \"column\": \"Caloric Intake\",\n      \"properties\": {\n        \"dtype\": \"number\",\n        \"std\": 5261.922658558781,\n        \"min\": 379.6960817985437,\n        \"max\": 16283.0,\n        \"num_unique_values\": 8,\n        \"samples\": [\n          1884.8562611312411,\n          2000.0,\n          16283.0\n        ],\n        \"semantic_type\": \"\",\n        \"description\": \"\"\n      }\n    }\n  ]\n}"
            }
          },
          "metadata": {},
          "execution_count": 6
        }
      ],
      "source": [
        "df.describe()"
      ]
    },
    {
      "cell_type": "markdown",
      "metadata": {
        "id": "DMAmoL3Jf3hi"
      },
      "source": [
        "## **Fix the column names**"
      ]
    },
    {
      "cell_type": "code",
      "execution_count": 7,
      "metadata": {
        "colab": {
          "base_uri": "https://localhost:8080/"
        },
        "id": "bKaBYhpHcVA2",
        "outputId": "0c23df57-6136-49be-8f24-dbbd830c431e"
      },
      "outputs": [
        {
          "output_type": "execute_result",
          "data": {
            "text/plain": [
              "Index(['Patient ID', 'Disease Name', 'Gender', 'Age', 'BMI', 'Smoking',\n",
              "       'Alcohol Consumption', 'Food Preference', 'Food Allergies',\n",
              "       'Blood Glucose(mg/dL)', 'Blood Pressure(mmHg)', 'Symptoms',\n",
              "       'Nutritional Requirement', 'Cholesterol Levels(mg/dL)',\n",
              "       'Kidney Function (mg/dL)', 'Caloric Intake', 'Hydration Level', 'Meal'],\n",
              "      dtype='object')"
            ]
          },
          "metadata": {},
          "execution_count": 7
        }
      ],
      "source": [
        "df.columns"
      ]
    },
    {
      "cell_type": "code",
      "execution_count": 8,
      "metadata": {
        "id": "iv5t0BiDgDO3"
      },
      "outputs": [],
      "source": [
        "df.rename(columns={'Blood Glucose(mg/dL)': 'Blood_Glucose',\n",
        "                   'Cholesterol Levels(mg/dL)':'Cholesterol_Levels',\n",
        "                   'Blood Pressure(mmHg)':'Blood_Pressure',\n",
        "                   'Kidney Function (mg/dL)': 'Kidney_Function'}, inplace=True)"
      ]
    },
    {
      "cell_type": "code",
      "execution_count": 9,
      "metadata": {
        "colab": {
          "base_uri": "https://localhost:8080/"
        },
        "id": "wog7FbrnhQP4",
        "outputId": "f8f50c88-e2d2-4f08-fe68-1eb93b8e21d8"
      },
      "outputs": [
        {
          "output_type": "execute_result",
          "data": {
            "text/plain": [
              "Index(['Patient ID', 'Disease Name', 'Gender', 'Age', 'BMI', 'Smoking',\n",
              "       'Alcohol Consumption', 'Food Preference', 'Food Allergies',\n",
              "       'Blood_Glucose', 'Blood_Pressure', 'Symptoms',\n",
              "       'Nutritional Requirement', 'Cholesterol_Levels', 'Kidney_Function',\n",
              "       'Caloric Intake', 'Hydration Level', 'Meal'],\n",
              "      dtype='object')"
            ]
          },
          "metadata": {},
          "execution_count": 9
        }
      ],
      "source": [
        "df.columns"
      ]
    },
    {
      "cell_type": "markdown",
      "metadata": {
        "id": "kBPFz0YRhoA9"
      },
      "source": [
        "## **Fix the datatype**"
      ]
    },
    {
      "cell_type": "code",
      "execution_count": 10,
      "metadata": {
        "colab": {
          "base_uri": "https://localhost:8080/"
        },
        "id": "ulUXUJythlN5",
        "outputId": "09675811-62cc-4fec-f6df-cc28a127df16"
      },
      "outputs": [
        {
          "output_type": "stream",
          "name": "stdout",
          "text": [
            "<class 'pandas.core.frame.DataFrame'>\n",
            "RangeIndex: 16283 entries, 0 to 16282\n",
            "Data columns (total 18 columns):\n",
            " #   Column                   Non-Null Count  Dtype  \n",
            "---  ------                   --------------  -----  \n",
            " 0   Patient ID               16283 non-null  int64  \n",
            " 1   Disease Name             16283 non-null  object \n",
            " 2   Gender                   16283 non-null  object \n",
            " 3   Age                      16283 non-null  int64  \n",
            " 4   BMI                      16283 non-null  float64\n",
            " 5   Smoking                  16283 non-null  object \n",
            " 6   Alcohol Consumption      16283 non-null  object \n",
            " 7   Food Preference          16283 non-null  object \n",
            " 8   Food Allergies           15612 non-null  object \n",
            " 9   Blood_Glucose            15483 non-null  float64\n",
            " 10  Blood_Pressure           16283 non-null  object \n",
            " 11  Symptoms                 16283 non-null  object \n",
            " 12  Nutritional Requirement  16283 non-null  object \n",
            " 13  Cholesterol_Levels       16283 non-null  int64  \n",
            " 14  Kidney_Function          11275 non-null  float64\n",
            " 15  Caloric Intake           16283 non-null  float64\n",
            " 16  Hydration Level          16283 non-null  object \n",
            " 17  Meal                     16283 non-null  object \n",
            "dtypes: float64(4), int64(3), object(11)\n",
            "memory usage: 2.2+ MB\n"
          ]
        }
      ],
      "source": [
        "df.info()"
      ]
    },
    {
      "cell_type": "code",
      "execution_count": 11,
      "metadata": {
        "id": "8Q8UdLskh6ey"
      },
      "outputs": [],
      "source": [
        "def categorize_blood_pressure(bp):\n",
        "    systolic, diastolic = map(int, bp.split('/'))\n",
        "    if systolic < 120 and diastolic < 80:\n",
        "        return 'Normal'\n",
        "    elif 120 <= systolic < 130 and diastolic < 80:\n",
        "        return 'Elevated'\n",
        "    elif systolic < 140 or diastolic < 90:\n",
        "        return 'High'\n",
        "    else:\n",
        "        return 'Hypertension'\n",
        "\n",
        "df['Blood_Pressure_Category'] = df['Blood_Pressure'].apply(categorize_blood_pressure)"
      ]
    },
    {
      "cell_type": "code",
      "execution_count": 12,
      "metadata": {
        "id": "ms8OSbUblPuf"
      },
      "outputs": [],
      "source": [
        "df.drop('Blood_Pressure', axis=1, inplace=True)"
      ]
    },
    {
      "cell_type": "code",
      "execution_count": 13,
      "metadata": {
        "colab": {
          "base_uri": "https://localhost:8080/"
        },
        "id": "j4cLrILXk5WI",
        "outputId": "a3ab7c4f-9186-48c5-d11f-d2b9eae59f98"
      },
      "outputs": [
        {
          "output_type": "stream",
          "name": "stdout",
          "text": [
            "<class 'pandas.core.frame.DataFrame'>\n",
            "RangeIndex: 16283 entries, 0 to 16282\n",
            "Data columns (total 18 columns):\n",
            " #   Column                   Non-Null Count  Dtype  \n",
            "---  ------                   --------------  -----  \n",
            " 0   Patient ID               16283 non-null  int64  \n",
            " 1   Disease Name             16283 non-null  object \n",
            " 2   Gender                   16283 non-null  object \n",
            " 3   Age                      16283 non-null  int64  \n",
            " 4   BMI                      16283 non-null  float64\n",
            " 5   Smoking                  16283 non-null  object \n",
            " 6   Alcohol Consumption      16283 non-null  object \n",
            " 7   Food Preference          16283 non-null  object \n",
            " 8   Food Allergies           15612 non-null  object \n",
            " 9   Blood_Glucose            15483 non-null  float64\n",
            " 10  Symptoms                 16283 non-null  object \n",
            " 11  Nutritional Requirement  16283 non-null  object \n",
            " 12  Cholesterol_Levels       16283 non-null  int64  \n",
            " 13  Kidney_Function          11275 non-null  float64\n",
            " 14  Caloric Intake           16283 non-null  float64\n",
            " 15  Hydration Level          16283 non-null  object \n",
            " 16  Meal                     16283 non-null  object \n",
            " 17  Blood_Pressure_Category  16283 non-null  object \n",
            "dtypes: float64(4), int64(3), object(11)\n",
            "memory usage: 2.2+ MB\n"
          ]
        }
      ],
      "source": [
        "df.info()"
      ]
    },
    {
      "cell_type": "markdown",
      "metadata": {
        "id": "GszLgepI2VJI"
      },
      "source": [
        "## **Exploratory Data Analysis**"
      ]
    },
    {
      "cell_type": "markdown",
      "metadata": {
        "id": "lVlbESapAETy"
      },
      "source": [
        "### **Univariate Analysis of Numerical Columns**"
      ]
    },
    {
      "cell_type": "code",
      "execution_count": 14,
      "metadata": {
        "id": "4RFZKlau2nhS"
      },
      "outputs": [],
      "source": [
        "def numeric_univariate_analysis(num_data, col_name):\n",
        "    print('*' * 5, col_name, '*' * 5)\n",
        "    print(num_data.agg(['min', 'max', 'mean', 'median', 'std', 'skew', 'kurt']))\n",
        "    print()"
      ]
    },
    {
      "cell_type": "code",
      "execution_count": 15,
      "metadata": {
        "colab": {
          "base_uri": "https://localhost:8080/"
        },
        "id": "rskiBrwL3DRY",
        "outputId": "f5f6ccf7-be5c-410b-f92a-ebd55e315712"
      },
      "outputs": [
        {
          "output_type": "stream",
          "name": "stdout",
          "text": [
            "***** Age *****\n",
            "min       40.000000\n",
            "max       65.000000\n",
            "mean      52.595038\n",
            "median    53.000000\n",
            "std        7.538110\n",
            "skew      -0.048166\n",
            "kurt      -1.181774\n",
            "Name: Age, dtype: float64\n",
            "\n"
          ]
        }
      ],
      "source": [
        "numeric_univariate_analysis(df['Age'],'Age')"
      ]
    },
    {
      "cell_type": "code",
      "execution_count": 16,
      "metadata": {
        "colab": {
          "base_uri": "https://localhost:8080/"
        },
        "id": "Jmb4Dm6U-wQS",
        "outputId": "380eb96b-8dbc-494d-f943-6e0a20aa9288"
      },
      "outputs": [
        {
          "output_type": "stream",
          "name": "stdout",
          "text": [
            "***** BMI *****\n",
            "min       15.000000\n",
            "max       95.200000\n",
            "mean      27.469226\n",
            "median    27.400000\n",
            "std        6.844310\n",
            "skew       0.219809\n",
            "kurt       0.322027\n",
            "Name: BMI, dtype: float64\n",
            "\n"
          ]
        }
      ],
      "source": [
        "numeric_univariate_analysis(df['BMI'],'BMI')"
      ]
    },
    {
      "cell_type": "code",
      "execution_count": 17,
      "metadata": {
        "colab": {
          "base_uri": "https://localhost:8080/"
        },
        "id": "9TbWINm--4hY",
        "outputId": "e126e90b-9f29-454a-c068-e2ac2c7907fd"
      },
      "outputs": [
        {
          "output_type": "stream",
          "name": "stdout",
          "text": [
            "***** Caloric Intake *****\n",
            "min        471.000000\n",
            "max       5000.000000\n",
            "mean      1884.856261\n",
            "median    2000.000000\n",
            "std        379.696082\n",
            "skew        -1.936750\n",
            "kurt         4.771565\n",
            "Name: Caloric Intake, dtype: float64\n",
            "\n"
          ]
        }
      ],
      "source": [
        "numeric_univariate_analysis(df['Caloric Intake'],'Caloric Intake')"
      ]
    },
    {
      "cell_type": "code",
      "execution_count": 18,
      "metadata": {
        "colab": {
          "base_uri": "https://localhost:8080/",
          "height": 447
        },
        "id": "Z7vGfsL-4zSc",
        "outputId": "f89189b4-c707-472e-f66e-3ac739013546"
      },
      "outputs": [
        {
          "output_type": "execute_result",
          "data": {
            "text/plain": [
              "<Axes: ylabel='Density'>"
            ]
          },
          "metadata": {},
          "execution_count": 18
        },
        {
          "output_type": "display_data",
          "data": {
            "text/plain": [
              "<Figure size 640x480 with 1 Axes>"
            ],
            "image/png": "[encoded data removed]"
          },
          "metadata": {}
        }
      ],
      "source": [
        "df['Age'].plot(kind='kde')"
      ]
    },
    {
      "cell_type": "code",
      "execution_count": 19,
      "metadata": {
        "colab": {
          "base_uri": "https://localhost:8080/",
          "height": 447
        },
        "id": "LJhWa4wz8Wnw",
        "outputId": "78308790-a319-401c-a274-b5fffe682ca1"
      },
      "outputs": [
        {
          "output_type": "execute_result",
          "data": {
            "text/plain": [
              "<Axes: ylabel='Density'>"
            ]
          },
          "metadata": {},
          "execution_count": 19
        },
        {
          "output_type": "display_data",
          "data": {
            "text/plain": [
              "<Figure size 640x480 with 1 Axes>"
            ],
            "image/png": "[encoded data removed]"
          },
          "metadata": {}
        }
      ],
      "source": [
        "df['BMI'].plot(kind='kde')"
      ]
    },
    {
      "cell_type": "code",
      "execution_count": 20,
      "metadata": {
        "colab": {
          "base_uri": "https://localhost:8080/",
          "height": 447
        },
        "id": "sRkmdpqX_Dwj",
        "outputId": "bfff3f70-967c-497f-a3bf-594ca67fa697"
      },
      "outputs": [
        {
          "output_type": "execute_result",
          "data": {
            "text/plain": [
              "<Axes: ylabel='Density'>"
            ]
          },
          "metadata": {},
          "execution_count": 20
        },
        {
          "output_type": "display_data",
          "data": {
            "text/plain": [
              "<Figure size 640x480 with 1 Axes>"
            ],
            "image/png": "[encoded data removed]"
          },
          "metadata": {}
        }
      ],
      "source": [
        "df['Caloric Intake'].plot(kind='kde')"
      ]
    },
    {
      "cell_type": "code",
      "execution_count": 21,
      "metadata": {
        "colab": {
          "base_uri": "https://localhost:8080/",
          "height": 447
        },
        "id": "XSS3PusQ6wiY",
        "outputId": "1fbb40d0-c0e9-4b4d-db9a-fa7b346c6aee"
      },
      "outputs": [
        {
          "output_type": "execute_result",
          "data": {
            "text/plain": [
              "<Axes: >"
            ]
          },
          "metadata": {},
          "execution_count": 21
        },
        {
          "output_type": "display_data",
          "data": {
            "text/plain": [
              "<Figure size 640x480 with 1 Axes>"
            ],
            "image/png": "[encoded data removed]"
          },
          "metadata": {}
        }
      ],
      "source": [
        "df['Age'].plot(kind='box')"
      ]
    },
    {
      "cell_type": "code",
      "execution_count": 22,
      "metadata": {
        "colab": {
          "base_uri": "https://localhost:8080/",
          "height": 447
        },
        "id": "ElWDrhWJ65nz",
        "outputId": "ef6288cc-d1ca-4eca-a0cf-ab040f71e89e"
      },
      "outputs": [
        {
          "output_type": "execute_result",
          "data": {
            "text/plain": [
              "<Axes: >"
            ]
          },
          "metadata": {},
          "execution_count": 22
        },
        {
          "output_type": "display_data",
          "data": {
            "text/plain": [
              "<Figure size 640x480 with 1 Axes>"
            ],
            "image/png": "[encoded data removed]"
          },
          "metadata": {}
        }
      ],
      "source": [
        "df['BMI'].plot(kind='box')"
      ]
    },
    {
      "cell_type": "code",
      "execution_count": 23,
      "metadata": {
        "colab": {
          "base_uri": "https://localhost:8080/",
          "height": 447
        },
        "id": "ejiNc5os7PzF",
        "outputId": "c0db008a-c782-4c4e-fe2c-30e1d9641e83"
      },
      "outputs": [
        {
          "output_type": "execute_result",
          "data": {
            "text/plain": [
              "<Axes: >"
            ]
          },
          "metadata": {},
          "execution_count": 23
        },
        {
          "output_type": "display_data",
          "data": {
            "text/plain": [
              "<Figure size 640x480 with 1 Axes>"
            ],
            "image/png": "[encoded data removed]"
          },
          "metadata": {}
        }
      ],
      "source": [
        "df['Caloric Intake'].plot(kind='box')"
      ]
    },
    {
      "cell_type": "code",
      "execution_count": 24,
      "metadata": {
        "id": "BVRFVoUy7q3S"
      },
      "outputs": [],
      "source": [
        "def remove_outliers(df, column):\n",
        "    Q1 = df[column].quantile(0.25)\n",
        "    Q3 = df[column].quantile(0.75)\n",
        "\n",
        "    IQR = Q3 - Q1\n",
        "\n",
        "    lower_bound = Q1 - 1.5 * IQR\n",
        "    upper_bound = Q3 + 1.5 * IQR\n",
        "\n",
        "    df = df[(df[column] >= lower_bound) & (df[column] <= upper_bound)]\n",
        "\n",
        "    return df\n"
      ]
    },
    {
      "cell_type": "code",
      "execution_count": 25,
      "metadata": {
        "id": "xS1Hi3y-9TKR"
      },
      "outputs": [],
      "source": [
        "df = remove_outliers(df, 'BMI')"
      ]
    },
    {
      "cell_type": "code",
      "execution_count": 26,
      "metadata": {
        "id": "7D49godC9lQu"
      },
      "outputs": [],
      "source": [
        "df = remove_outliers(df, 'Caloric Intake')"
      ]
    },
    {
      "cell_type": "code",
      "execution_count": 27,
      "metadata": {
        "colab": {
          "base_uri": "https://localhost:8080/",
          "height": 447
        },
        "id": "N7Du9ZyW9u4E",
        "outputId": "979618b6-df12-46ee-c77b-5eae87bcb8c1"
      },
      "outputs": [
        {
          "output_type": "execute_result",
          "data": {
            "text/plain": [
              "<Axes: >"
            ]
          },
          "metadata": {},
          "execution_count": 27
        },
        {
          "output_type": "display_data",
          "data": {
            "text/plain": [
              "<Figure size 640x480 with 1 Axes>"
            ],
            "image/png": "[encoded data removed]"
          },
          "metadata": {}
        }
      ],
      "source": [
        "df['BMI'].plot(kind='box')"
      ]
    },
    {
      "cell_type": "code",
      "execution_count": 28,
      "metadata": {
        "colab": {
          "base_uri": "https://localhost:8080/",
          "height": 447
        },
        "id": "NtvCYoAM9yGz",
        "outputId": "e3ea7d41-5aaa-44e3-ac56-25bc37014074"
      },
      "outputs": [
        {
          "output_type": "execute_result",
          "data": {
            "text/plain": [
              "<Axes: >"
            ]
          },
          "metadata": {},
          "execution_count": 28
        },
        {
          "output_type": "display_data",
          "data": {
            "text/plain": [
              "<Figure size 640x480 with 1 Axes>"
            ],
            "image/png": "[encoded data removed]"
          },
          "metadata": {}
        }
      ],
      "source": [
        "df['Caloric Intake'].plot(kind='box')"
      ]
    },
    {
      "cell_type": "code",
      "execution_count": 29,
      "metadata": {
        "colab": {
          "base_uri": "https://localhost:8080/"
        },
        "id": "8ThUrp0493hp",
        "outputId": "104050ea-623c-4fe3-b27c-e1aeb1547b32"
      },
      "outputs": [
        {
          "output_type": "execute_result",
          "data": {
            "text/plain": [
              "(14914, 18)"
            ]
          },
          "metadata": {},
          "execution_count": 29
        }
      ],
      "source": [
        "df.shape"
      ]
    },
    {
      "cell_type": "markdown",
      "metadata": {
        "id": "A4gv105QAUR7"
      },
      "source": [
        "### **Univariate Analysis of Categorical Columns**"
      ]
    },
    {
      "cell_type": "code",
      "execution_count": 30,
      "metadata": {
        "id": "0IIb8cM2-HW_"
      },
      "outputs": [],
      "source": [
        "def categorical_univariate_analysis(cat_data):\n",
        "    for col_name in cat_data.columns:\n",
        "        print('*' * 5, col_name, '*' * 5)\n",
        "        print('Count:', cat_data[col_name].count())\n",
        "        print('Unique values:', cat_data[col_name].nunique())\n",
        "        print('Unique categories:', cat_data[col_name].unique())\n",
        "        #print('Value counts: \\n', cat_data[col_name].value_counts(normalize=True))\n",
        "        print()"
      ]
    },
    {
      "cell_type": "code",
      "execution_count": 31,
      "metadata": {
        "colab": {
          "base_uri": "https://localhost:8080/"
        },
        "id": "wl4TTxjkAxxH",
        "outputId": "31decc97-a265-4c15-9eb6-d6a4aa990194"
      },
      "outputs": [
        {
          "output_type": "stream",
          "name": "stdout",
          "text": [
            "***** Food Preference *****\n",
            "Count: 14914\n",
            "Unique values: 3\n",
            "Unique categories: ['Non-Vegetarian' 'Vegan' 'Vegetarian']\n",
            "\n",
            "***** Food Allergies *****\n",
            "Count: 14410\n",
            "Unique values: 10\n",
            "Unique categories: ['Seafood' 'Nuts' 'Gluten' nan 'Dairy' 'Peanuts' 'Tree nuts' 'Fish' 'Soy'\n",
            " 'Eggs' 'Shellfish']\n",
            "\n",
            "***** Symptoms *****\n",
            "Count: 14914\n",
            "Unique values: 22\n",
            "Unique categories: ['Chest tightness' 'Swelling' 'Shortness of Breath' 'Fatigue' 'Wheezing'\n",
            " 'Slow-healing sores or infections' 'Increased hunger' 'Excessive thirst'\n",
            " 'Frequent urination' 'Blurred vision' 'Cough' 'Rash' 'Obesity'\n",
            " 'Dizziness' 'Headache' 'Back pain' 'Abdominal pain' 'Nausea' 'Dark Urine'\n",
            " 'Abdominal Pain' 'Loss of Appetite' 'Jaundice']\n",
            "\n",
            "***** Meal *****\n",
            "Count: 14914\n",
            "Unique values: 48\n",
            "Unique categories: ['Chicken Biryani with Low-Fat Yogurt' 'Fish Curry with Brown Rice'\n",
            " 'Grilled Tofu with Brown Rice' 'Vegetable Khichdi'\n",
            " 'Egg Salad with Vegetables' 'Sweet Potato and Chickpea Stew'\n",
            " 'Methi Paratha with Yogurt' 'Masoor Dal and Rice'\n",
            " 'Egg Bhurji with Whole Wheat Bread'\n",
            " 'Stuffed Bell Peppers with Black Beans'\n",
            " 'Grilled chicken with steamed vegetables' 'Palak Paneer with Brown Rice'\n",
            " 'Paneer Bhurji with Multigrain Roti'\n",
            " 'Quinoa Salad with Roasted Vegetables' 'Oven-baked Fish with Herbs'\n",
            " 'Spinach and Paneer Curry' 'Idli with Coconut Chutney'\n",
            " 'Buckwheat Pancakes with Berries' 'Avocado Toast with Hemp Seeds'\n",
            " 'Zucchini Noodles with Pesto' 'Chicken Stir Fry with Quinoa'\n",
            " 'Grilled Fish with Avocado Salad' 'Chickpea and Spinach Curry'\n",
            " 'Spinach and Lentil Soup' 'Chicken Soup with Mixed Vegetables'\n",
            " 'Coconut Curry with Vegetables' 'Vegetable Quinoa Pulao'\n",
            " 'Vegan salad with tofu' 'Vegetable stir-fry with quinoa'\n",
            " 'Whole Grain Pasta with Vegetables and Lean Protein'\n",
            " 'Baked salmon with quinoa steamed veggies and avocado'\n",
            " 'Grilled chicken with salad and fruit' 'Vegan Salad' 'Grilled Chicken'\n",
            " 'Grilled Tofu' 'Chicken Salad' 'Fish Curry' 'Egg Curry'\n",
            " 'Paneer Butter Masala' 'Dal Tadka' 'Chana Masala' 'Aloo Gobi'\n",
            " 'Chicken Curry' 'Mutton Biryani' 'Grilled Salmon with Brown Rice'\n",
            " 'Mixed Vegetable Stir Fry with Quinoa' 'Paneer Salad with Chapati'\n",
            " 'Vegan Salad with Quinoa and Vegetables']\n",
            "\n"
          ]
        }
      ],
      "source": [
        "categorical_univariate_analysis(df[['Food Preference','Food Allergies','Symptoms','Meal']])"
      ]
    },
    {
      "cell_type": "code",
      "execution_count": 32,
      "metadata": {
        "colab": {
          "base_uri": "https://localhost:8080/",
          "height": 484
        },
        "id": "BGL765PaNPPQ",
        "outputId": "f2671bbd-0c03-44be-c8c8-862f85979ac8"
      },
      "outputs": [
        {
          "output_type": "execute_result",
          "data": {
            "text/plain": [
              "(array([0, 1, 2]),\n",
              " [Text(0, 0, 'Non-Vegetarian'), Text(1, 0, 'Vegan'), Text(2, 0, 'Vegetarian')])"
            ]
          },
          "metadata": {},
          "execution_count": 32
        },
        {
          "output_type": "display_data",
          "data": {
            "text/plain": [
              "<Figure size 640x480 with 1 Axes>"
            ],
            "image/png": "[encoded data removed]"
          },
          "metadata": {}
        }
      ],
      "source": [
        "df['Food Preference'].value_counts().plot(kind='bar', color='green')\n",
        "plt.xticks(rotation = 0)"
      ]
    },
    {
      "cell_type": "code",
      "execution_count": 33,
      "metadata": {
        "colab": {
          "base_uri": "https://localhost:8080/",
          "height": 490
        },
        "id": "inh1MYY9NjCB",
        "outputId": "6eae5a10-b91c-4246-a305-f60c95965fbb"
      },
      "outputs": [
        {
          "output_type": "display_data",
          "data": {
            "text/plain": [
              "<Figure size 640x480 with 1 Axes>"
            ],
            "image/png": "[encoded data removed]"
          },
          "metadata": {}
        }
      ],
      "source": [
        "ax = df['Food Allergies'].value_counts().plot(kind='bar', color='brown')\n",
        "for index, value in enumerate(df['Food Allergies'].value_counts()):\n",
        "    ax.text(index, value, str(value), ha='center', va='bottom')\n",
        "plt.xticks(rotation = 45)\n",
        "plt.show()"
      ]
    },
    {
      "cell_type": "code",
      "execution_count": 34,
      "metadata": {
        "colab": {
          "base_uri": "https://localhost:8080/",
          "height": 447
        },
        "id": "YNatmi22OlfR",
        "outputId": "c418a331-71b4-4f13-d031-64c94d99d2fd"
      },
      "outputs": [
        {
          "output_type": "execute_result",
          "data": {
            "text/plain": [
              "<Axes: ylabel='Symptoms'>"
            ]
          },
          "metadata": {},
          "execution_count": 34
        },
        {
          "output_type": "display_data",
          "data": {
            "text/plain": [
              "<Figure size 640x480 with 1 Axes>"
            ],
            "image/png": "[encoded data removed]"
          },
          "metadata": {}
        }
      ],
      "source": [
        "df['Symptoms'].value_counts().plot(kind='barh', color='orange')"
      ]
    },
    {
      "cell_type": "code",
      "execution_count": 35,
      "metadata": {
        "colab": {
          "base_uri": "https://localhost:8080/",
          "height": 951
        },
        "id": "B6l0_pEyU8Tw",
        "outputId": "06822470-172f-4627-c3b7-2df47f44aa57"
      },
      "outputs": [
        {
          "output_type": "display_data",
          "data": {
            "text/plain": [
              "<Figure size 1000x600 with 1 Axes>"
            ],
            "image/png": "[encoded data removed]"
          },
          "metadata": {}
        }
      ],
      "source": [
        "plt.figure(figsize=(10, 6))\n",
        "plt.title('Class Distribution in Training Data')\n",
        "plt.xlabel('Class Labels')\n",
        "plt.ylabel('Frequency')\n",
        "df['Meal'].value_counts().plot(kind='bar', color='green')\n",
        "plt.show()"
      ]
    },
    {
      "cell_type": "code",
      "execution_count": 36,
      "metadata": {
        "colab": {
          "base_uri": "https://localhost:8080/",
          "height": 1000
        },
        "id": "clqTESwBPHHQ",
        "outputId": "245c40b3-3637-41c7-8da6-308ebcd23100"
      },
      "outputs": [
        {
          "output_type": "execute_result",
          "data": {
            "text/plain": [
              "Meal\n",
              "Whole Grain Pasta with Vegetables and Lean Protein      1420\n",
              "Baked salmon with quinoa steamed veggies and avocado    1337\n",
              "Vegan Salad                                             1229\n",
              "Grilled chicken with steamed vegetables                 1014\n",
              "Vegetable stir-fry with quinoa                           841\n",
              "Vegan salad with tofu                                    833\n",
              "Chicken Biryani with Low-Fat Yogurt                      720\n",
              "Paneer Salad with Chapati                                684\n",
              "Grilled Tofu                                             636\n",
              "Grilled Tofu with Brown Rice                             565\n",
              "Grilled chicken with salad and fruit                     436\n",
              "Chicken Salad                                            300\n",
              "Masoor Dal and Rice                                      276\n",
              "Mixed Vegetable Stir Fry with Quinoa                     216\n",
              "Chicken Stir Fry with Quinoa                             192\n",
              "Sweet Potato and Chickpea Stew                           189\n",
              "Grilled Chicken                                          187\n",
              "Oven-baked Fish with Herbs                               181\n",
              "Paneer Butter Masala                                     168\n",
              "Avocado Toast with Hemp Seeds                            164\n",
              "Mutton Biryani                                           162\n",
              "Vegetable Quinoa Pulao                                   158\n",
              "Vegan Salad with Quinoa and Vegetables                   156\n",
              "Spinach and Lentil Soup                                  155\n",
              "Quinoa Salad with Roasted Vegetables                     148\n",
              "Chicken Curry                                            145\n",
              "Dal Tadka                                                138\n",
              "Egg Curry                                                138\n",
              "Fish Curry                                               136\n",
              "Chicken Soup with Mixed Vegetables                       134\n",
              "Chickpea and Spinach Curry                               134\n",
              "Spinach and Paneer Curry                                 131\n",
              "Stuffed Bell Peppers with Black Beans                    125\n",
              "Chana Masala                                             124\n",
              "Palak Paneer with Brown Rice                             122\n",
              "Grilled Salmon with Brown Rice                           120\n",
              "Paneer Bhurji with Multigrain Roti                       116\n",
              "Fish Curry with Brown Rice                               111\n",
              "Egg Bhurji with Whole Wheat Bread                        108\n",
              "Buckwheat Pancakes with Berries                          104\n",
              "Methi Paratha with Yogurt                                104\n",
              "Vegetable Khichdi                                        103\n",
              "Egg Salad with Vegetables                                 88\n",
              "Grilled Fish with Avocado Salad                           81\n",
              "Idli with Coconut Chutney                                 81\n",
              "Zucchini Noodles with Pesto                               78\n",
              "Coconut Curry with Vegetables                             77\n",
              "Aloo Gobi                                                 49\n",
              "Name: count, dtype: int64"
            ],
            "text/html": [
              "<div>\n",
              "<style scoped>\n",
              "    .dataframe tbody tr th:only-of-type {\n",
              "        vertical-align: middle;\n",
              "    }\n",
              "\n",
              "    .dataframe tbody tr th {\n",
              "        vertical-align: top;\n",
              "    }\n",
              "\n",
              "    .dataframe thead th {\n",
              "        text-align: right;\n",
              "    }\n",
              "</style>\n",
              "<table border=\"1\" class=\"dataframe\">\n",
              "  <thead>\n",
              "    <tr style=\"text-align: right;\">\n",
              "      <th></th>\n",
              "      <th>count</th>\n",
              "    </tr>\n",
              "    <tr>\n",
              "      <th>Meal</th>\n",
              "      <th></th>\n",
              "    </tr>\n",
              "  </thead>\n",
              "  <tbody>\n",
              "    <tr>\n",
              "      <th>Whole Grain Pasta with Vegetables and Lean Protein</th>\n",
              "      <td>1420</td>\n",
              "    </tr>\n",
              "    <tr>\n",
              "      <th>Baked salmon with quinoa steamed veggies and avocado</th>\n",
              "      <td>1337</td>\n",
              "    </tr>\n",
              "    <tr>\n",
              "      <th>Vegan Salad</th>\n",
              "      <td>1229</td>\n",
              "    </tr>\n",
              "    <tr>\n",
              "      <th>Grilled chicken with steamed vegetables</th>\n",
              "      <td>1014</td>\n",
              "    </tr>\n",
              "    <tr>\n",
              "      <th>Vegetable stir-fry with quinoa</th>\n",
              "      <td>841</td>\n",
              "    </tr>\n",
              "    <tr>\n",
              "      <th>Vegan salad with tofu</th>\n",
              "      <td>833</td>\n",
              "    </tr>\n",
              "    <tr>\n",
              "      <th>Chicken Biryani with Low-Fat Yogurt</th>\n",
              "      <td>720</td>\n",
              "    </tr>\n",
              "    <tr>\n",
              "      <th>Paneer Salad with Chapati</th>\n",
              "      <td>684</td>\n",
              "    </tr>\n",
              "    <tr>\n",
              "      <th>Grilled Tofu</th>\n",
              "      <td>636</td>\n",
              "    </tr>\n",
              "    <tr>\n",
              "      <th>Grilled Tofu with Brown Rice</th>\n",
              "      <td>565</td>\n",
              "    </tr>\n",
              "    <tr>\n",
              "      <th>Grilled chicken with salad and fruit</th>\n",
              "      <td>436</td>\n",
              "    </tr>\n",
              "    <tr>\n",
              "      <th>Chicken Salad</th>\n",
              "      <td>300</td>\n",
              "    </tr>\n",
              "    <tr>\n",
              "      <th>Masoor Dal and Rice</th>\n",
              "      <td>276</td>\n",
              "    </tr>\n",
              "    <tr>\n",
              "      <th>Mixed Vegetable Stir Fry with Quinoa</th>\n",
              "      <td>216</td>\n",
              "    </tr>\n",
              "    <tr>\n",
              "      <th>Chicken Stir Fry with Quinoa</th>\n",
              "      <td>192</td>\n",
              "    </tr>\n",
              "    <tr>\n",
              "      <th>Sweet Potato and Chickpea Stew</th>\n",
              "      <td>189</td>\n",
              "    </tr>\n",
              "    <tr>\n",
              "      <th>Grilled Chicken</th>\n",
              "      <td>187</td>\n",
              "    </tr>\n",
              "    <tr>\n",
              "      <th>Oven-baked Fish with Herbs</th>\n",
              "      <td>181</td>\n",
              "    </tr>\n",
              "    <tr>\n",
              "      <th>Paneer Butter Masala</th>\n",
              "      <td>168</td>\n",
              "    </tr>\n",
              "    <tr>\n",
              "      <th>Avocado Toast with Hemp Seeds</th>\n",
              "      <td>164</td>\n",
              "    </tr>\n",
              "    <tr>\n",
              "      <th>Mutton Biryani</th>\n",
              "      <td>162</td>\n",
              "    </tr>\n",
              "    <tr>\n",
              "      <th>Vegetable Quinoa Pulao</th>\n",
              "      <td>158</td>\n",
              "    </tr>\n",
              "    <tr>\n",
              "      <th>Vegan Salad with Quinoa and Vegetables</th>\n",
              "      <td>156</td>\n",
              "    </tr>\n",
              "    <tr>\n",
              "      <th>Spinach and Lentil Soup</th>\n",
              "      <td>155</td>\n",
              "    </tr>\n",
              "    <tr>\n",
              "      <th>Quinoa Salad with Roasted Vegetables</th>\n",
              "      <td>148</td>\n",
              "    </tr>\n",
              "    <tr>\n",
              "      <th>Chicken Curry</th>\n",
              "      <td>145</td>\n",
              "    </tr>\n",
              "    <tr>\n",
              "      <th>Dal Tadka</th>\n",
              "      <td>138</td>\n",
              "    </tr>\n",
              "    <tr>\n",
              "      <th>Egg Curry</th>\n",
              "      <td>138</td>\n",
              "    </tr>\n",
              "    <tr>\n",
              "      <th>Fish Curry</th>\n",
              "      <td>136</td>\n",
              "    </tr>\n",
              "    <tr>\n",
              "      <th>Chicken Soup with Mixed Vegetables</th>\n",
              "      <td>134</td>\n",
              "    </tr>\n",
              "    <tr>\n",
              "      <th>Chickpea and Spinach Curry</th>\n",
              "      <td>134</td>\n",
              "    </tr>\n",
              "    <tr>\n",
              "      <th>Spinach and Paneer Curry</th>\n",
              "      <td>131</td>\n",
              "    </tr>\n",
              "    <tr>\n",
              "      <th>Stuffed Bell Peppers with Black Beans</th>\n",
              "      <td>125</td>\n",
              "    </tr>\n",
              "    <tr>\n",
              "      <th>Chana Masala</th>\n",
              "      <td>124</td>\n",
              "    </tr>\n",
              "    <tr>\n",
              "      <th>Palak Paneer with Brown Rice</th>\n",
              "      <td>122</td>\n",
              "    </tr>\n",
              "    <tr>\n",
              "      <th>Grilled Salmon with Brown Rice</th>\n",
              "      <td>120</td>\n",
              "    </tr>\n",
              "    <tr>\n",
              "      <th>Paneer Bhurji with Multigrain Roti</th>\n",
              "      <td>116</td>\n",
              "    </tr>\n",
              "    <tr>\n",
              "      <th>Fish Curry with Brown Rice</th>\n",
              "      <td>111</td>\n",
              "    </tr>\n",
              "    <tr>\n",
              "      <th>Egg Bhurji with Whole Wheat Bread</th>\n",
              "      <td>108</td>\n",
              "    </tr>\n",
              "    <tr>\n",
              "      <th>Buckwheat Pancakes with Berries</th>\n",
              "      <td>104</td>\n",
              "    </tr>\n",
              "    <tr>\n",
              "      <th>Methi Paratha with Yogurt</th>\n",
              "      <td>104</td>\n",
              "    </tr>\n",
              "    <tr>\n",
              "      <th>Vegetable Khichdi</th>\n",
              "      <td>103</td>\n",
              "    </tr>\n",
              "    <tr>\n",
              "      <th>Egg Salad with Vegetables</th>\n",
              "      <td>88</td>\n",
              "    </tr>\n",
              "    <tr>\n",
              "      <th>Grilled Fish with Avocado Salad</th>\n",
              "      <td>81</td>\n",
              "    </tr>\n",
              "    <tr>\n",
              "      <th>Idli with Coconut Chutney</th>\n",
              "      <td>81</td>\n",
              "    </tr>\n",
              "    <tr>\n",
              "      <th>Zucchini Noodles with Pesto</th>\n",
              "      <td>78</td>\n",
              "    </tr>\n",
              "    <tr>\n",
              "      <th>Coconut Curry with Vegetables</th>\n",
              "      <td>77</td>\n",
              "    </tr>\n",
              "    <tr>\n",
              "      <th>Aloo Gobi</th>\n",
              "      <td>49</td>\n",
              "    </tr>\n",
              "  </tbody>\n",
              "</table>\n",
              "</div><br><label><b>dtype:</b> int64</label>"
            ]
          },
          "metadata": {},
          "execution_count": 36
        }
      ],
      "source": [
        "df['Meal'].value_counts()"
      ]
    },
    {
      "cell_type": "code",
      "execution_count": 37,
      "metadata": {
        "id": "R8VucBXrPJvb"
      },
      "outputs": [],
      "source": [
        "df['Meal'] = df['Meal'].str.strip().str.lower()"
      ]
    },
    {
      "cell_type": "code",
      "execution_count": 38,
      "metadata": {
        "colab": {
          "base_uri": "https://localhost:8080/"
        },
        "id": "cz7DCINIPMWu",
        "outputId": "4c2377d8-6214-46d3-cd57-2fe1f9d00fa3"
      },
      "outputs": [
        {
          "output_type": "execute_result",
          "data": {
            "text/plain": [
              "48"
            ]
          },
          "metadata": {},
          "execution_count": 38
        }
      ],
      "source": [
        "df['Meal'].nunique()"
      ]
    },
    {
      "cell_type": "markdown",
      "metadata": {
        "id": "XtHPRnXmguuQ"
      },
      "source": [
        "### **Bivariate Analysis**"
      ]
    },
    {
      "cell_type": "code",
      "execution_count": 39,
      "metadata": {
        "colab": {
          "base_uri": "https://localhost:8080/",
          "height": 143
        },
        "id": "aau7lvWLgPQC",
        "outputId": "ee0c79d9-89c0-497a-96e8-52f9211a21a9"
      },
      "outputs": [
        {
          "output_type": "execute_result",
          "data": {
            "text/plain": [
              "<pandas.io.formats.style.Styler at 0x7da34c945e10>"
            ],
            "text/html": [
              "<style type=\"text/css\">\n",
              "</style>\n",
              "<table id=\"T_0fc84\" class=\"dataframe\">\n",
              "  <thead>\n",
              "    <tr>\n",
              "      <th class=\"index_name level0\" >Disease Name</th>\n",
              "      <th id=\"T_0fc84_level0_col0\" class=\"col_heading level0 col0\" >Asthma</th>\n",
              "      <th id=\"T_0fc84_level0_col1\" class=\"col_heading level0 col1\" >Cardiovascular Disease</th>\n",
              "      <th id=\"T_0fc84_level0_col2\" class=\"col_heading level0 col2\" >Chronic Kidney Disease</th>\n",
              "      <th id=\"T_0fc84_level0_col3\" class=\"col_heading level0 col3\" >Chronic Liver Disease</th>\n",
              "      <th id=\"T_0fc84_level0_col4\" class=\"col_heading level0 col4\" >Diabetes</th>\n",
              "    </tr>\n",
              "    <tr>\n",
              "      <th class=\"index_name level0\" >Gender</th>\n",
              "      <th class=\"blank col0\" >&nbsp;</th>\n",
              "      <th class=\"blank col1\" >&nbsp;</th>\n",
              "      <th class=\"blank col2\" >&nbsp;</th>\n",
              "      <th class=\"blank col3\" >&nbsp;</th>\n",
              "      <th class=\"blank col4\" >&nbsp;</th>\n",
              "    </tr>\n",
              "  </thead>\n",
              "  <tbody>\n",
              "    <tr>\n",
              "      <th id=\"T_0fc84_level0_row0\" class=\"row_heading level0 row0\" >Female</th>\n",
              "      <td id=\"T_0fc84_row0_col0\" class=\"data row0 col0\" >19.30%</td>\n",
              "      <td id=\"T_0fc84_row0_col1\" class=\"data row0 col1\" >26.16%</td>\n",
              "      <td id=\"T_0fc84_row0_col2\" class=\"data row0 col2\" >16.35%</td>\n",
              "      <td id=\"T_0fc84_row0_col3\" class=\"data row0 col3\" >9.59%</td>\n",
              "      <td id=\"T_0fc84_row0_col4\" class=\"data row0 col4\" >28.60%</td>\n",
              "    </tr>\n",
              "    <tr>\n",
              "      <th id=\"T_0fc84_level0_row1\" class=\"row_heading level0 row1\" >Male</th>\n",
              "      <td id=\"T_0fc84_row1_col0\" class=\"data row1 col0\" >22.65%</td>\n",
              "      <td id=\"T_0fc84_row1_col1\" class=\"data row1 col1\" >23.89%</td>\n",
              "      <td id=\"T_0fc84_row1_col2\" class=\"data row1 col2\" >12.48%</td>\n",
              "      <td id=\"T_0fc84_row1_col3\" class=\"data row1 col3\" >11.82%</td>\n",
              "      <td id=\"T_0fc84_row1_col4\" class=\"data row1 col4\" >29.16%</td>\n",
              "    </tr>\n",
              "  </tbody>\n",
              "</table>\n"
            ]
          },
          "metadata": {},
          "execution_count": 39
        }
      ],
      "source": [
        "tab = pd.crosstab(df['Gender'],df['Disease Name'],normalize = 'index')\n",
        "tab_percentage = tab * 100\n",
        "tab_percentage.style.format(\"{:.2f}%\")"
      ]
    },
    {
      "cell_type": "code",
      "execution_count": 40,
      "metadata": {
        "colab": {
          "base_uri": "https://localhost:8080/",
          "height": 143
        },
        "id": "8lfBEE70h44N",
        "outputId": "869ea9ff-13e4-43c2-c73c-7742717080cb"
      },
      "outputs": [
        {
          "output_type": "execute_result",
          "data": {
            "text/plain": [
              "<pandas.io.formats.style.Styler at 0x7da3058fbd60>"
            ],
            "text/html": [
              "<style type=\"text/css\">\n",
              "</style>\n",
              "<table id=\"T_f7d63\" class=\"dataframe\">\n",
              "  <thead>\n",
              "    <tr>\n",
              "      <th class=\"index_name level0\" >Food Preference</th>\n",
              "      <th id=\"T_f7d63_level0_col0\" class=\"col_heading level0 col0\" >Non-Vegetarian</th>\n",
              "      <th id=\"T_f7d63_level0_col1\" class=\"col_heading level0 col1\" >Vegan</th>\n",
              "      <th id=\"T_f7d63_level0_col2\" class=\"col_heading level0 col2\" >Vegetarian</th>\n",
              "    </tr>\n",
              "    <tr>\n",
              "      <th class=\"index_name level0\" >Gender</th>\n",
              "      <th class=\"blank col0\" >&nbsp;</th>\n",
              "      <th class=\"blank col1\" >&nbsp;</th>\n",
              "      <th class=\"blank col2\" >&nbsp;</th>\n",
              "    </tr>\n",
              "  </thead>\n",
              "  <tbody>\n",
              "    <tr>\n",
              "      <th id=\"T_f7d63_level0_row0\" class=\"row_heading level0 row0\" >Female</th>\n",
              "      <td id=\"T_f7d63_row0_col0\" class=\"data row0 col0\" >42.42%</td>\n",
              "      <td id=\"T_f7d63_row0_col1\" class=\"data row0 col1\" >32.32%</td>\n",
              "      <td id=\"T_f7d63_row0_col2\" class=\"data row0 col2\" >25.27%</td>\n",
              "    </tr>\n",
              "    <tr>\n",
              "      <th id=\"T_f7d63_level0_row1\" class=\"row_heading level0 row1\" >Male</th>\n",
              "      <td id=\"T_f7d63_row1_col0\" class=\"data row1 col0\" >40.13%</td>\n",
              "      <td id=\"T_f7d63_row1_col1\" class=\"data row1 col1\" >31.81%</td>\n",
              "      <td id=\"T_f7d63_row1_col2\" class=\"data row1 col2\" >28.06%</td>\n",
              "    </tr>\n",
              "  </tbody>\n",
              "</table>\n"
            ]
          },
          "metadata": {},
          "execution_count": 40
        }
      ],
      "source": [
        "tab1 = pd.crosstab(df['Gender'],df['Food Preference'],normalize = 'index')\n",
        "tab_percentage1 = tab1 * 100\n",
        "tab_percentage1.style.format(\"{:.2f}%\")"
      ]
    },
    {
      "cell_type": "markdown",
      "metadata": {
        "id": "0PyZ0vDaqsLk"
      },
      "source": [
        "## **Data Preprocessing**"
      ]
    },
    {
      "cell_type": "markdown",
      "metadata": {
        "id": "gDsUG895H_LY"
      },
      "source": [
        "### **Handling missing values**"
      ]
    },
    {
      "cell_type": "code",
      "execution_count": 43,
      "metadata": {
        "colab": {
          "base_uri": "https://localhost:8080/",
          "height": 648
        },
        "id": "OIFKJPSnp4w7",
        "outputId": "2ce73790-1cce-40a2-fc4d-0591a85a63c2"
      },
      "outputs": [
        {
          "output_type": "execute_result",
          "data": {
            "text/plain": [
              "Patient ID                    0\n",
              "Disease Name                  0\n",
              "Gender                        0\n",
              "Age                           0\n",
              "BMI                           0\n",
              "Smoking                       0\n",
              "Alcohol Consumption           0\n",
              "Food Preference               0\n",
              "Food Allergies              504\n",
              "Blood_Glucose               701\n",
              "Symptoms                      0\n",
              "Nutritional Requirement       0\n",
              "Cholesterol_Levels            0\n",
              "Kidney_Function            4867\n",
              "Caloric Intake                0\n",
              "Hydration Level               0\n",
              "Meal                          0\n",
              "Blood_Pressure_Category       0\n",
              "dtype: int64"
            ],
            "text/html": [
              "<div>\n",
              "<style scoped>\n",
              "    .dataframe tbody tr th:only-of-type {\n",
              "        vertical-align: middle;\n",
              "    }\n",
              "\n",
              "    .dataframe tbody tr th {\n",
              "        vertical-align: top;\n",
              "    }\n",
              "\n",
              "    .dataframe thead th {\n",
              "        text-align: right;\n",
              "    }\n",
              "</style>\n",
              "<table border=\"1\" class=\"dataframe\">\n",
              "  <thead>\n",
              "    <tr style=\"text-align: right;\">\n",
              "      <th></th>\n",
              "      <th>0</th>\n",
              "    </tr>\n",
              "  </thead>\n",
              "  <tbody>\n",
              "    <tr>\n",
              "      <th>Patient ID</th>\n",
              "      <td>0</td>\n",
              "    </tr>\n",
              "    <tr>\n",
              "      <th>Disease Name</th>\n",
              "      <td>0</td>\n",
              "    </tr>\n",
              "    <tr>\n",
              "      <th>Gender</th>\n",
              "      <td>0</td>\n",
              "    </tr>\n",
              "    <tr>\n",
              "      <th>Age</th>\n",
              "      <td>0</td>\n",
              "    </tr>\n",
              "    <tr>\n",
              "      <th>BMI</th>\n",
              "      <td>0</td>\n",
              "    </tr>\n",
              "    <tr>\n",
              "      <th>Smoking</th>\n",
              "      <td>0</td>\n",
              "    </tr>\n",
              "    <tr>\n",
              "      <th>Alcohol Consumption</th>\n",
              "      <td>0</td>\n",
              "    </tr>\n",
              "    <tr>\n",
              "      <th>Food Preference</th>\n",
              "      <td>0</td>\n",
              "    </tr>\n",
              "    <tr>\n",
              "      <th>Food Allergies</th>\n",
              "      <td>504</td>\n",
              "    </tr>\n",
              "    <tr>\n",
              "      <th>Blood_Glucose</th>\n",
              "      <td>701</td>\n",
              "    </tr>\n",
              "    <tr>\n",
              "      <th>Symptoms</th>\n",
              "      <td>0</td>\n",
              "    </tr>\n",
              "    <tr>\n",
              "      <th>Nutritional Requirement</th>\n",
              "      <td>0</td>\n",
              "    </tr>\n",
              "    <tr>\n",
              "      <th>Cholesterol_Levels</th>\n",
              "      <td>0</td>\n",
              "    </tr>\n",
              "    <tr>\n",
              "      <th>Kidney_Function</th>\n",
              "      <td>4867</td>\n",
              "    </tr>\n",
              "    <tr>\n",
              "      <th>Caloric Intake</th>\n",
              "      <td>0</td>\n",
              "    </tr>\n",
              "    <tr>\n",
              "      <th>Hydration Level</th>\n",
              "      <td>0</td>\n",
              "    </tr>\n",
              "    <tr>\n",
              "      <th>Meal</th>\n",
              "      <td>0</td>\n",
              "    </tr>\n",
              "    <tr>\n",
              "      <th>Blood_Pressure_Category</th>\n",
              "      <td>0</td>\n",
              "    </tr>\n",
              "  </tbody>\n",
              "</table>\n",
              "</div><br><label><b>dtype:</b> int64</label>"
            ]
          },
          "metadata": {},
          "execution_count": 43
        }
      ],
      "source": [
        "df.isnull().sum()"
      ]
    },
    {
      "cell_type": "code",
      "execution_count": 44,
      "metadata": {
        "id": "Lpi5bYm0HM5D"
      },
      "outputs": [],
      "source": [
        "df['Kidney_Function'] = df['Kidney_Function'].fillna(-1)\n",
        "df['Blood_Glucose'] = df['Blood_Glucose'].fillna(-1)"
      ]
    },
    {
      "cell_type": "code",
      "execution_count": 45,
      "metadata": {
        "id": "5G-SPNAVHZSA"
      },
      "outputs": [],
      "source": [
        "df['Food Allergies'] = df['Food Allergies'].fillna('No Allergy')"
      ]
    },
    {
      "cell_type": "code",
      "execution_count": 46,
      "metadata": {
        "colab": {
          "base_uri": "https://localhost:8080/",
          "height": 648
        },
        "id": "aqh4YgBlH0fe",
        "outputId": "a37d2247-c965-41c0-f037-cb724862f41e"
      },
      "outputs": [
        {
          "output_type": "execute_result",
          "data": {
            "text/plain": [
              "Patient ID                 0\n",
              "Disease Name               0\n",
              "Gender                     0\n",
              "Age                        0\n",
              "BMI                        0\n",
              "Smoking                    0\n",
              "Alcohol Consumption        0\n",
              "Food Preference            0\n",
              "Food Allergies             0\n",
              "Blood_Glucose              0\n",
              "Symptoms                   0\n",
              "Nutritional Requirement    0\n",
              "Cholesterol_Levels         0\n",
              "Kidney_Function            0\n",
              "Caloric Intake             0\n",
              "Hydration Level            0\n",
              "Meal                       0\n",
              "Blood_Pressure_Category    0\n",
              "dtype: int64"
            ],
            "text/html": [
              "<div>\n",
              "<style scoped>\n",
              "    .dataframe tbody tr th:only-of-type {\n",
              "        vertical-align: middle;\n",
              "    }\n",
              "\n",
              "    .dataframe tbody tr th {\n",
              "        vertical-align: top;\n",
              "    }\n",
              "\n",
              "    .dataframe thead th {\n",
              "        text-align: right;\n",
              "    }\n",
              "</style>\n",
              "<table border=\"1\" class=\"dataframe\">\n",
              "  <thead>\n",
              "    <tr style=\"text-align: right;\">\n",
              "      <th></th>\n",
              "      <th>0</th>\n",
              "    </tr>\n",
              "  </thead>\n",
              "  <tbody>\n",
              "    <tr>\n",
              "      <th>Patient ID</th>\n",
              "      <td>0</td>\n",
              "    </tr>\n",
              "    <tr>\n",
              "      <th>Disease Name</th>\n",
              "      <td>0</td>\n",
              "    </tr>\n",
              "    <tr>\n",
              "      <th>Gender</th>\n",
              "      <td>0</td>\n",
              "    </tr>\n",
              "    <tr>\n",
              "      <th>Age</th>\n",
              "      <td>0</td>\n",
              "    </tr>\n",
              "    <tr>\n",
              "      <th>BMI</th>\n",
              "      <td>0</td>\n",
              "    </tr>\n",
              "    <tr>\n",
              "      <th>Smoking</th>\n",
              "      <td>0</td>\n",
              "    </tr>\n",
              "    <tr>\n",
              "      <th>Alcohol Consumption</th>\n",
              "      <td>0</td>\n",
              "    </tr>\n",
              "    <tr>\n",
              "      <th>Food Preference</th>\n",
              "      <td>0</td>\n",
              "    </tr>\n",
              "    <tr>\n",
              "      <th>Food Allergies</th>\n",
              "      <td>0</td>\n",
              "    </tr>\n",
              "    <tr>\n",
              "      <th>Blood_Glucose</th>\n",
              "      <td>0</td>\n",
              "    </tr>\n",
              "    <tr>\n",
              "      <th>Symptoms</th>\n",
              "      <td>0</td>\n",
              "    </tr>\n",
              "    <tr>\n",
              "      <th>Nutritional Requirement</th>\n",
              "      <td>0</td>\n",
              "    </tr>\n",
              "    <tr>\n",
              "      <th>Cholesterol_Levels</th>\n",
              "      <td>0</td>\n",
              "    </tr>\n",
              "    <tr>\n",
              "      <th>Kidney_Function</th>\n",
              "      <td>0</td>\n",
              "    </tr>\n",
              "    <tr>\n",
              "      <th>Caloric Intake</th>\n",
              "      <td>0</td>\n",
              "    </tr>\n",
              "    <tr>\n",
              "      <th>Hydration Level</th>\n",
              "      <td>0</td>\n",
              "    </tr>\n",
              "    <tr>\n",
              "      <th>Meal</th>\n",
              "      <td>0</td>\n",
              "    </tr>\n",
              "    <tr>\n",
              "      <th>Blood_Pressure_Category</th>\n",
              "      <td>0</td>\n",
              "    </tr>\n",
              "  </tbody>\n",
              "</table>\n",
              "</div><br><label><b>dtype:</b> int64</label>"
            ]
          },
          "metadata": {},
          "execution_count": 46
        }
      ],
      "source": [
        "df.isnull().sum()"
      ]
    },
    {
      "cell_type": "markdown",
      "metadata": {
        "id": "zupV7Yd5Ip9L"
      },
      "source": [
        "### **Encoding categorical data**"
      ]
    },
    {
      "cell_type": "code",
      "execution_count": 47,
      "metadata": {
        "id": "IlsNrD_yH20x"
      },
      "outputs": [],
      "source": [
        "le = LabelEncoder()"
      ]
    },
    {
      "cell_type": "code",
      "execution_count": 48,
      "metadata": {
        "id": "0zQvaSuYJVKl"
      },
      "outputs": [],
      "source": [
        "df['Gender'] = le.fit_transform(df['Gender'])\n",
        "df['Smoking'] = le.fit_transform(df['Smoking'])\n",
        "df['Alcohol Consumption'] = le.fit_transform(df['Alcohol Consumption'])\n",
        "df['Food Preference'] = le.fit_transform(df['Food Preference'])\n",
        "df['Nutritional Requirement'] = le.fit_transform(df['Nutritional Requirement'])\n",
        "df['Blood_Pressure_Category'] = le.fit_transform(df['Blood_Pressure_Category'])\n",
        "df['Hydration Level'] = le.fit_transform(df['Hydration Level'])\n",
        "df['Disease Name'] = le.fit_transform(df['Disease Name'])\n",
        "df['Food Allergies'] = le.fit_transform(df['Food Allergies'])\n",
        "df['Symptoms'] = le.fit_transform(df['Symptoms'])"
      ]
    },
    {
      "cell_type": "code",
      "execution_count": 49,
      "metadata": {
        "colab": {
          "base_uri": "https://localhost:8080/",
          "height": 469
        },
        "id": "oB-Rjcj7Mto7",
        "outputId": "b9023f44-f418-469a-8b46-dfbf822e9155"
      },
      "outputs": [
        {
          "output_type": "execute_result",
          "data": {
            "text/plain": [
              "   Patient ID  Disease Name  Gender  Age   BMI  Smoking  Alcohol Consumption  \\\n",
              "0           1             0       1   42  15.8        0                    0   \n",
              "1           2             0       0   61  22.8        0                    1   \n",
              "3           4             0       0   55  38.5        0                    1   \n",
              "4           5             0       1   43  19.3        0                    0   \n",
              "5           6             0       1   44  21.8        0                    1   \n",
              "\n",
              "   Food Preference  Food Allergies  Blood_Glucose  Symptoms  \\\n",
              "0                0               7          160.0         4   \n",
              "1                0               7          140.0        20   \n",
              "3                0               7          160.0        18   \n",
              "4                1               7           -1.0        20   \n",
              "5                2               5          160.0         4   \n",
              "\n",
              "   Nutritional Requirement  Cholesterol_Levels  Kidney_Function  \\\n",
              "0                        1                 200             -1.0   \n",
              "1                        2                 200              0.9   \n",
              "3                        2                 200              1.5   \n",
              "4                        1                 250             -1.0   \n",
              "5                        2                 180              1.5   \n",
              "\n",
              "   Caloric Intake  Hydration Level                                 Meal  \\\n",
              "0          2000.0                2  chicken biryani with low-fat yogurt   \n",
              "1          1800.0                2           fish curry with brown rice   \n",
              "3          2500.0                2  chicken biryani with low-fat yogurt   \n",
              "4          1500.0                1         grilled tofu with brown rice   \n",
              "5          1800.0                2                    vegetable khichdi   \n",
              "\n",
              "   Blood_Pressure_Category  \n",
              "0                        1  \n",
              "1                        3  \n",
              "3                        1  \n",
              "4                        2  \n",
              "5                        1  "
            ],
            "text/html": [
              "\n",
              "  <div id=\"df-8d5bb5f9-b3c2-4cd1-b2a5-6129ecdbf6dc\" class=\"colab-df-container\">\n",
              "    <div>\n",
              "<style scoped>\n",
              "    .dataframe tbody tr th:only-of-type {\n",
              "        vertical-align: middle;\n",
              "    }\n",
              "\n",
              "    .dataframe tbody tr th {\n",
              "        vertical-align: top;\n",
              "    }\n",
              "\n",
              "    .dataframe thead th {\n",
              "        text-align: right;\n",
              "    }\n",
              "</style>\n",
              "<table border=\"1\" class=\"dataframe\">\n",
              "  <thead>\n",
              "    <tr style=\"text-align: right;\">\n",
              "      <th></th>\n",
              "      <th>Patient ID</th>\n",
              "      <th>Disease Name</th>\n",
              "      <th>Gender</th>\n",
              "      <th>Age</th>\n",
              "      <th>BMI</th>\n",
              "      <th>Smoking</th>\n",
              "      <th>Alcohol Consumption</th>\n",
              "      <th>Food Preference</th>\n",
              "      <th>Food Allergies</th>\n",
              "      <th>Blood_Glucose</th>\n",
              "      <th>Symptoms</th>\n",
              "      <th>Nutritional Requirement</th>\n",
              "      <th>Cholesterol_Levels</th>\n",
              "      <th>Kidney_Function</th>\n",
              "      <th>Caloric Intake</th>\n",
              "      <th>Hydration Level</th>\n",
              "      <th>Meal</th>\n",
              "      <th>Blood_Pressure_Category</th>\n",
              "    </tr>\n",
              "  </thead>\n",
              "  <tbody>\n",
              "    <tr>\n",
              "      <th>0</th>\n",
              "      <td>1</td>\n",
              "      <td>0</td>\n",
              "      <td>1</td>\n",
              "      <td>42</td>\n",
              "      <td>15.8</td>\n",
              "      <td>0</td>\n",
              "      <td>0</td>\n",
              "      <td>0</td>\n",
              "      <td>7</td>\n",
              "      <td>160.0</td>\n",
              "      <td>4</td>\n",
              "      <td>1</td>\n",
              "      <td>200</td>\n",
              "      <td>-1.0</td>\n",
              "      <td>2000.0</td>\n",
              "      <td>2</td>\n",
              "      <td>chicken biryani with low-fat yogurt</td>\n",
              "      <td>1</td>\n",
              "    </tr>\n",
              "    <tr>\n",
              "      <th>1</th>\n",
              "      <td>2</td>\n",
              "      <td>0</td>\n",
              "      <td>0</td>\n",
              "      <td>61</td>\n",
              "      <td>22.8</td>\n",
              "      <td>0</td>\n",
              "      <td>1</td>\n",
              "      <td>0</td>\n",
              "      <td>7</td>\n",
              "      <td>140.0</td>\n",
              "      <td>20</td>\n",
              "      <td>2</td>\n",
              "      <td>200</td>\n",
              "      <td>0.9</td>\n",
              "      <td>1800.0</td>\n",
              "      <td>2</td>\n",
              "      <td>fish curry with brown rice</td>\n",
              "      <td>3</td>\n",
              "    </tr>\n",
              "    <tr>\n",
              "      <th>3</th>\n",
              "      <td>4</td>\n",
              "      <td>0</td>\n",
              "      <td>0</td>\n",
              "      <td>55</td>\n",
              "      <td>38.5</td>\n",
              "      <td>0</td>\n",
              "      <td>1</td>\n",
              "      <td>0</td>\n",
              "      <td>7</td>\n",
              "      <td>160.0</td>\n",
              "      <td>18</td>\n",
              "      <td>2</td>\n",
              "      <td>200</td>\n",
              "      <td>1.5</td>\n",
              "      <td>2500.0</td>\n",
              "      <td>2</td>\n",
              "      <td>chicken biryani with low-fat yogurt</td>\n",
              "      <td>1</td>\n",
              "    </tr>\n",
              "    <tr>\n",
              "      <th>4</th>\n",
              "      <td>5</td>\n",
              "      <td>0</td>\n",
              "      <td>1</td>\n",
              "      <td>43</td>\n",
              "      <td>19.3</td>\n",
              "      <td>0</td>\n",
              "      <td>0</td>\n",
              "      <td>1</td>\n",
              "      <td>7</td>\n",
              "      <td>-1.0</td>\n",
              "      <td>20</td>\n",
              "      <td>1</td>\n",
              "      <td>250</td>\n",
              "      <td>-1.0</td>\n",
              "      <td>1500.0</td>\n",
              "      <td>1</td>\n",
              "      <td>grilled tofu with brown rice</td>\n",
              "      <td>2</td>\n",
              "    </tr>\n",
              "    <tr>\n",
              "      <th>5</th>\n",
              "      <td>6</td>\n",
              "      <td>0</td>\n",
              "      <td>1</td>\n",
              "      <td>44</td>\n",
              "      <td>21.8</td>\n",
              "      <td>0</td>\n",
              "      <td>1</td>\n",
              "      <td>2</td>\n",
              "      <td>5</td>\n",
              "      <td>160.0</td>\n",
              "      <td>4</td>\n",
              "      <td>2</td>\n",
              "      <td>180</td>\n",
              "      <td>1.5</td>\n",
              "      <td>1800.0</td>\n",
              "      <td>2</td>\n",
              "      <td>vegetable khichdi</td>\n",
              "      <td>1</td>\n",
              "    </tr>\n",
              "  </tbody>\n",
              "</table>\n",
              "</div>\n",
              "    <div class=\"colab-df-buttons\">\n",
              "\n",
              "  <div class=\"colab-df-container\">\n",
              "    <button class=\"colab-df-convert\" onclick=\"convertToInteractive('df-8d5bb5f9-b3c2-4cd1-b2a5-6129ecdbf6dc')\"\n",
              "            title=\"Convert this dataframe to an interactive table.\"\n",
              "            style=\"display:none;\">\n",
              "\n",
              "  <svg xmlns=\"http://www.w3.org/2000/svg\" height=\"24px\" viewBox=\"0 -960 960 960\">\n",
              "    <path d=\"M120-120v-720h720v720H120Zm60-500h600v-160H180v160Zm220 220h160v-160H400v160Zm0 220h160v-160H400v160ZM180-400h160v-160H180v160Zm440 0h160v-160H620v160ZM180-180h160v-160H180v160Zm440 0h160v-160H620v160Z\"/>\n",
              "  </svg>\n",
              "    </button>\n",
              "\n",
              "  <style>\n",
              "    .colab-df-container {\n",
              "      display:flex;\n",
              "      gap: 12px;\n",
              "    }\n",
              "\n",
              "    .colab-df-convert {\n",
              "      background-color: #E8F0FE;\n",
              "      border: none;\n",
              "      border-radius: 50%;\n",
              "      cursor: pointer;\n",
              "      display: none;\n",
              "      fill: #1967D2;\n",
              "      height: 32px;\n",
              "      padding: 0 0 0 0;\n",
              "      width: 32px;\n",
              "    }\n",
              "\n",
              "    .colab-df-convert:hover {\n",
              "      background-color: #E2EBFA;\n",
              "      box-shadow: 0px 1px 2px rgba(60, 64, 67, 0.3), 0px 1px 3px 1px rgba(60, 64, 67, 0.15);\n",
              "      fill: #174EA6;\n",
              "    }\n",
              "\n",
              "    .colab-df-buttons div {\n",
              "      margin-bottom: 4px;\n",
              "    }\n",
              "\n",
              "    [theme=dark] .colab-df-convert {\n",
              "      background-color: #3B4455;\n",
              "      fill: #D2E3FC;\n",
              "    }\n",
              "\n",
              "    [theme=dark] .colab-df-convert:hover {\n",
              "      background-color: #434B5C;\n",
              "      box-shadow: 0px 1px 3px 1px rgba(0, 0, 0, 0.15);\n",
              "      filter: drop-shadow(0px 1px 2px rgba(0, 0, 0, 0.3));\n",
              "      fill: #FFFFFF;\n",
              "    }\n",
              "  </style>\n",
              "\n",
              "    <script>\n",
              "      const buttonEl =\n",
              "        document.querySelector('#df-8d5bb5f9-b3c2-4cd1-b2a5-6129ecdbf6dc button.colab-df-convert');\n",
              "      buttonEl.style.display =\n",
              "        google.colab.kernel.accessAllowed ? 'block' : 'none';\n",
              "\n",
              "      async function convertToInteractive(key) {\n",
              "        const element = document.querySelector('#df-8d5bb5f9-b3c2-4cd1-b2a5-6129ecdbf6dc');\n",
              "        const dataTable =\n",
              "          await google.colab.kernel.invokeFunction('convertToInteractive',\n",
              "                                                    [key], {});\n",
              "        if (!dataTable) return;\n",
              "\n",
              "        const docLinkHtml = 'Like what you see? Visit the ' +\n",
              "          '<a target=\"_blank\" href=https://colab.research.google.com/notebooks/data_table.ipynb>data table notebook</a>'\n",
              "          + ' to learn more about interactive tables.';\n",
              "        element.innerHTML = '';\n",
              "        dataTable['output_type'] = 'display_data';\n",
              "        await google.colab.output.renderOutput(dataTable, element);\n",
              "        const docLink = document.createElement('div');\n",
              "        docLink.innerHTML = docLinkHtml;\n",
              "        element.appendChild(docLink);\n",
              "      }\n",
              "    </script>\n",
              "  </div>\n",
              "\n",
              "\n",
              "<div id=\"df-ac6f9c51-b164-4f6f-b766-3c8becc329fb\">\n",
              "  <button class=\"colab-df-quickchart\" onclick=\"quickchart('df-ac6f9c51-b164-4f6f-b766-3c8becc329fb')\"\n",
              "            title=\"Suggest charts\"\n",
              "            style=\"display:none;\">\n",
              "\n",
              "<svg xmlns=\"http://www.w3.org/2000/svg\" height=\"24px\"viewBox=\"0 0 24 24\"\n",
              "     width=\"24px\">\n",
              "    <g>\n",
              "        <path d=\"M19 3H5c-1.1 0-2 .9-2 2v14c0 1.1.9 2 2 2h14c1.1 0 2-.9 2-2V5c0-1.1-.9-2-2-2zM9 17H7v-7h2v7zm4 0h-2V7h2v10zm4 0h-2v-4h2v4z\"/>\n",
              "    </g>\n",
              "</svg>\n",
              "  </button>\n",
              "\n",
              "<style>\n",
              "  .colab-df-quickchart {\n",
              "      --bg-color: #E8F0FE;\n",
              "      --fill-color: #1967D2;\n",
              "      --hover-bg-color: #E2EBFA;\n",
              "      --hover-fill-color: #174EA6;\n",
              "      --disabled-fill-color: #AAA;\n",
              "      --disabled-bg-color: #DDD;\n",
              "  }\n",
              "\n",
              "  [theme=dark] .colab-df-quickchart {\n",
              "      --bg-color: #3B4455;\n",
              "      --fill-color: #D2E3FC;\n",
              "      --hover-bg-color: #434B5C;\n",
              "      --hover-fill-color: #FFFFFF;\n",
              "      --disabled-bg-color: #3B4455;\n",
              "      --disabled-fill-color: #666;\n",
              "  }\n",
              "\n",
              "  .colab-df-quickchart {\n",
              "    background-color: var(--bg-color);\n",
              "    border: none;\n",
              "    border-radius: 50%;\n",
              "    cursor: pointer;\n",
              "    display: none;\n",
              "    fill: var(--fill-color);\n",
              "    height: 32px;\n",
              "    padding: 0;\n",
              "    width: 32px;\n",
              "  }\n",
              "\n",
              "  .colab-df-quickchart:hover {\n",
              "    background-color: var(--hover-bg-color);\n",
              "    box-shadow: 0 1px 2px rgba(60, 64, 67, 0.3), 0 1px 3px 1px rgba(60, 64, 67, 0.15);\n",
              "    fill: var(--button-hover-fill-color);\n",
              "  }\n",
              "\n",
              "  .colab-df-quickchart-complete:disabled,\n",
              "  .colab-df-quickchart-complete:disabled:hover {\n",
              "    background-color: var(--disabled-bg-color);\n",
              "    fill: var(--disabled-fill-color);\n",
              "    box-shadow: none;\n",
              "  }\n",
              "\n",
              "  .colab-df-spinner {\n",
              "    border: 2px solid var(--fill-color);\n",
              "    border-color: transparent;\n",
              "    border-bottom-color: var(--fill-color);\n",
              "    animation:\n",
              "      spin 1s steps(1) infinite;\n",
              "  }\n",
              "\n",
              "  @keyframes spin {\n",
              "    0% {\n",
              "      border-color: transparent;\n",
              "      border-bottom-color: var(--fill-color);\n",
              "      border-left-color: var(--fill-color);\n",
              "    }\n",
              "    20% {\n",
              "      border-color: transparent;\n",
              "      border-left-color: var(--fill-color);\n",
              "      border-top-color: var(--fill-color);\n",
              "    }\n",
              "    30% {\n",
              "      border-color: transparent;\n",
              "      border-left-color: var(--fill-color);\n",
              "      border-top-color: var(--fill-color);\n",
              "      border-right-color: var(--fill-color);\n",
              "    }\n",
              "    40% {\n",
              "      border-color: transparent;\n",
              "      border-right-color: var(--fill-color);\n",
              "      border-top-color: var(--fill-color);\n",
              "    }\n",
              "    60% {\n",
              "      border-color: transparent;\n",
              "      border-right-color: var(--fill-color);\n",
              "    }\n",
              "    80% {\n",
              "      border-color: transparent;\n",
              "      border-right-color: var(--fill-color);\n",
              "      border-bottom-color: var(--fill-color);\n",
              "    }\n",
              "    90% {\n",
              "      border-color: transparent;\n",
              "      border-bottom-color: var(--fill-color);\n",
              "    }\n",
              "  }\n",
              "</style>\n",
              "\n",
              "  <script>\n",
              "    async function quickchart(key) {\n",
              "      const quickchartButtonEl =\n",
              "        document.querySelector('#' + key + ' button');\n",
              "      quickchartButtonEl.disabled = true;  // To prevent multiple clicks.\n",
              "      quickchartButtonEl.classList.add('colab-df-spinner');\n",
              "      try {\n",
              "        const charts = await google.colab.kernel.invokeFunction(\n",
              "            'suggestCharts', [key], {});\n",
              "      } catch (error) {\n",
              "        console.error('Error during call to suggestCharts:', error);\n",
              "      }\n",
              "      quickchartButtonEl.classList.remove('colab-df-spinner');\n",
              "      quickchartButtonEl.classList.add('colab-df-quickchart-complete');\n",
              "    }\n",
              "    (() => {\n",
              "      let quickchartButtonEl =\n",
              "        document.querySelector('#df-ac6f9c51-b164-4f6f-b766-3c8becc329fb button');\n",
              "      quickchartButtonEl.style.display =\n",
              "        google.colab.kernel.accessAllowed ? 'block' : 'none';\n",
              "    })();\n",
              "  </script>\n",
              "</div>\n",
              "\n",
              "    </div>\n",
              "  </div>\n"
            ],
            "application/vnd.google.colaboratory.intrinsic+json": {
              "type": "dataframe",
              "variable_name": "df",
              "summary": "{\n  \"name\": \"df\",\n  \"rows\": 14914,\n  \"fields\": [\n    {\n      \"column\": \"Patient ID\",\n      \"properties\": {\n        \"dtype\": \"number\",\n        \"std\": 4681,\n        \"min\": 1,\n        \"max\": 16283,\n        \"num_unique_values\": 14914,\n        \"samples\": [\n          2026,\n          12217,\n          10270\n        ],\n        \"semantic_type\": \"\",\n        \"description\": \"\"\n      }\n    },\n    {\n      \"column\": \"Disease Name\",\n      \"properties\": {\n        \"dtype\": \"number\",\n        \"std\": 1,\n        \"min\": 0,\n        \"max\": 4,\n        \"num_unique_values\": 5,\n        \"samples\": [\n          4,\n          3,\n          1\n        ],\n        \"semantic_type\": \"\",\n        \"description\": \"\"\n      }\n    },\n    {\n      \"column\": \"Gender\",\n      \"properties\": {\n        \"dtype\": \"number\",\n        \"std\": 0,\n        \"min\": 0,\n        \"max\": 1,\n        \"num_unique_values\": 2,\n        \"samples\": [\n          0,\n          1\n        ],\n        \"semantic_type\": \"\",\n        \"description\": \"\"\n      }\n    },\n    {\n      \"column\": \"Age\",\n      \"properties\": {\n        \"dtype\": \"number\",\n        \"std\": 7,\n        \"min\": 40,\n        \"max\": 65,\n        \"num_unique_values\": 26,\n        \"samples\": [\n          40,\n          51\n        ],\n        \"semantic_type\": \"\",\n        \"description\": \"\"\n      }\n    },\n    {\n      \"column\": \"BMI\",\n      \"properties\": {\n        \"dtype\": \"number\",\n        \"std\": 6.8527582180847535,\n        \"min\": 15.0,\n        \"max\": 47.7,\n        \"num_unique_values\": 267,\n        \"samples\": [\n          22.1,\n          27.2\n        ],\n        \"semantic_type\": \"\",\n        \"description\": \"\"\n      }\n    },\n    {\n      \"column\": \"Smoking\",\n      \"properties\": {\n        \"dtype\": \"number\",\n        \"std\": 0,\n        \"min\": 0,\n        \"max\": 1,\n        \"num_unique_values\": 2,\n        \"samples\": [\n          1,\n          0\n        ],\n        \"semantic_type\": \"\",\n        \"description\": \"\"\n      }\n    },\n    {\n      \"column\": \"Alcohol Consumption\",\n      \"properties\": {\n        \"dtype\": \"number\",\n        \"std\": 0,\n        \"min\": 0,\n        \"max\": 1,\n        \"num_unique_values\": 2,\n        \"samples\": [\n          1,\n          0\n        ],\n        \"semantic_type\": \"\",\n        \"description\": \"\"\n      }\n    },\n    {\n      \"column\": \"Food Preference\",\n      \"properties\": {\n        \"dtype\": \"number\",\n        \"std\": 0,\n        \"min\": 0,\n        \"max\": 2,\n        \"num_unique_values\": 3,\n        \"samples\": [\n          0,\n          1\n        ],\n        \"semantic_type\": \"\",\n        \"description\": \"\"\n      }\n    },\n    {\n      \"column\": \"Food Allergies\",\n      \"properties\": {\n        \"dtype\": \"number\",\n        \"std\": 3,\n        \"min\": 0,\n        \"max\": 10,\n        \"num_unique_values\": 11,\n        \"samples\": [\n          6,\n          7\n        ],\n        \"semantic_type\": \"\",\n        \"description\": \"\"\n      }\n    },\n    {\n      \"column\": \"Blood_Glucose\",\n      \"properties\": {\n        \"dtype\": \"number\",\n        \"std\": 42.216118958607545,\n        \"min\": -1.0,\n        \"max\": 200.0,\n        \"num_unique_values\": 13,\n        \"samples\": [\n          125.0,\n          190.0\n        ],\n        \"semantic_type\": \"\",\n        \"description\": \"\"\n      }\n    },\n    {\n      \"column\": \"Symptoms\",\n      \"properties\": {\n        \"dtype\": \"number\",\n        \"std\": 5,\n        \"min\": 0,\n        \"max\": 21,\n        \"num_unique_values\": 22,\n        \"samples\": [\n          4,\n          7\n        ],\n        \"semantic_type\": \"\",\n        \"description\": \"\"\n      }\n    },\n    {\n      \"column\": \"Nutritional Requirement\",\n      \"properties\": {\n        \"dtype\": \"number\",\n        \"std\": 0,\n        \"min\": 0,\n        \"max\": 2,\n        \"num_unique_values\": 3,\n        \"samples\": [\n          1,\n          2\n        ],\n        \"semantic_type\": \"\",\n        \"description\": \"\"\n      }\n    },\n    {\n      \"column\": \"Cholesterol_Levels\",\n      \"properties\": {\n        \"dtype\": \"number\",\n        \"std\": 26,\n        \"min\": 150,\n        \"max\": 250,\n        \"num_unique_values\": 101,\n        \"samples\": [\n          248,\n          195\n        ],\n        \"semantic_type\": \"\",\n        \"description\": \"\"\n      }\n    },\n    {\n      \"column\": \"Kidney_Function\",\n      \"properties\": {\n        \"dtype\": \"number\",\n        \"std\": 1.061251182615026,\n        \"min\": -1.0,\n        \"max\": 1.5,\n        \"num_unique_values\": 6,\n        \"samples\": [\n          -1.0,\n          0.9\n        ],\n        \"semantic_type\": \"\",\n        \"description\": \"\"\n      }\n    },\n    {\n      \"column\": \"Caloric Intake\",\n      \"properties\": {\n        \"dtype\": \"number\",\n        \"std\": 186.6717062215627,\n        \"min\": 1350.0,\n        \"max\": 2525.0,\n        \"num_unique_values\": 625,\n        \"samples\": [\n          2130.0,\n          1527.0\n        ],\n        \"semantic_type\": \"\",\n        \"description\": \"\"\n      }\n    },\n    {\n      \"column\": \"Hydration Level\",\n      \"properties\": {\n        \"dtype\": \"number\",\n        \"std\": 0,\n        \"min\": 0,\n        \"max\": 2,\n        \"num_unique_values\": 3,\n        \"samples\": [\n          2,\n          1\n        ],\n        \"semantic_type\": \"\",\n        \"description\": \"\"\n      }\n    },\n    {\n      \"column\": \"Meal\",\n      \"properties\": {\n        \"dtype\": \"category\",\n        \"num_unique_values\": 48,\n        \"samples\": [\n          \"vegan salad with tofu\",\n          \"chana masala\"\n        ],\n        \"semantic_type\": \"\",\n        \"description\": \"\"\n      }\n    },\n    {\n      \"column\": \"Blood_Pressure_Category\",\n      \"properties\": {\n        \"dtype\": \"number\",\n        \"std\": 0,\n        \"min\": 0,\n        \"max\": 3,\n        \"num_unique_values\": 4,\n        \"samples\": [\n          3,\n          0\n        ],\n        \"semantic_type\": \"\",\n        \"description\": \"\"\n      }\n    }\n  ]\n}"
            }
          },
          "metadata": {},
          "execution_count": 49
        }
      ],
      "source": [
        "df.head()"
      ]
    },
    {
      "cell_type": "code",
      "execution_count": 50,
      "metadata": {
        "colab": {
          "base_uri": "https://localhost:8080/"
        },
        "id": "qgEg5GAnKdB-",
        "outputId": "de0db3fc-7bac-467d-c6e3-b43bca181eea"
      },
      "outputs": [
        {
          "output_type": "stream",
          "name": "stdout",
          "text": [
            "<class 'pandas.core.frame.DataFrame'>\n",
            "Index: 14914 entries, 0 to 16282\n",
            "Data columns (total 18 columns):\n",
            " #   Column                   Non-Null Count  Dtype  \n",
            "---  ------                   --------------  -----  \n",
            " 0   Patient ID               14914 non-null  int64  \n",
            " 1   Disease Name             14914 non-null  int64  \n",
            " 2   Gender                   14914 non-null  int64  \n",
            " 3   Age                      14914 non-null  int64  \n",
            " 4   BMI                      14914 non-null  float64\n",
            " 5   Smoking                  14914 non-null  int64  \n",
            " 6   Alcohol Consumption      14914 non-null  int64  \n",
            " 7   Food Preference          14914 non-null  int64  \n",
            " 8   Food Allergies           14914 non-null  int64  \n",
            " 9   Blood_Glucose            14914 non-null  float64\n",
            " 10  Symptoms                 14914 non-null  int64  \n",
            " 11  Nutritional Requirement  14914 non-null  int64  \n",
            " 12  Cholesterol_Levels       14914 non-null  int64  \n",
            " 13  Kidney_Function          14914 non-null  float64\n",
            " 14  Caloric Intake           14914 non-null  float64\n",
            " 15  Hydration Level          14914 non-null  int64  \n",
            " 16  Meal                     14914 non-null  object \n",
            " 17  Blood_Pressure_Category  14914 non-null  int64  \n",
            "dtypes: float64(4), int64(13), object(1)\n",
            "memory usage: 2.7+ MB\n"
          ]
        }
      ],
      "source": [
        "df.info()"
      ]
    },
    {
      "cell_type": "markdown",
      "metadata": {
        "id": "hPXTx8CmUvDe"
      },
      "source": [
        "## **Feature Selection**"
      ]
    },
    {
      "cell_type": "code",
      "execution_count": 51,
      "metadata": {
        "id": "A-jzQQjNS5dJ"
      },
      "outputs": [],
      "source": [
        "X = df.drop(['Meal','Patient ID','Symptoms','Nutritional Requirement','Hydration Level','Gender'], axis=1)\n",
        "y = df['Meal']"
      ]
    },
    {
      "cell_type": "code",
      "execution_count": 52,
      "metadata": {
        "colab": {
          "base_uri": "https://localhost:8080/"
        },
        "id": "Zwy_YiulTznL",
        "outputId": "35a5a653-67fa-4bd8-89a6-a1fbec2f7ebd"
      },
      "outputs": [
        {
          "output_type": "stream",
          "name": "stdout",
          "text": [
            "                    Feature  Importance\n",
            "6            Food Allergies    0.215955\n",
            "0              Disease Name    0.208192\n",
            "5           Food Preference    0.126696\n",
            "2                       BMI    0.092368\n",
            "10           Caloric Intake    0.075779\n",
            "1                       Age    0.074766\n",
            "8        Cholesterol_Levels    0.062418\n",
            "7             Blood_Glucose    0.043865\n",
            "9           Kidney_Function    0.032659\n",
            "11  Blood_Pressure_Category    0.029556\n",
            "4       Alcohol Consumption    0.019002\n",
            "3                   Smoking    0.018744\n"
          ]
        }
      ],
      "source": [
        "rf = RandomForestClassifier(random_state=42)\n",
        "rf.fit(X, y)\n",
        "\n",
        "importances = rf.feature_importances_\n",
        "\n",
        "feature_importances = pd.DataFrame({\n",
        "    'Feature': X.columns,\n",
        "    'Importance': importances\n",
        "}).sort_values(by='Importance', ascending=False)\n",
        "\n",
        "print(feature_importances)"
      ]
    },
    {
      "cell_type": "code",
      "execution_count": 53,
      "metadata": {
        "colab": {
          "base_uri": "https://localhost:8080/",
          "height": 607
        },
        "id": "WKFSI0ATNqKZ",
        "outputId": "6b87d13b-9a68-4d57-f5ee-5ae36a754c50"
      },
      "outputs": [
        {
          "output_type": "display_data",
          "data": {
            "text/plain": [
              "<Figure size 1000x600 with 1 Axes>"
            ],
            "image/png": "[encoded data removed]"
          },
          "metadata": {}
        }
      ],
      "source": [
        "importances = rf.feature_importances_\n",
        "indices = np.argsort(importances)[::-1]\n",
        "\n",
        "plt.figure(figsize=(10, 6))\n",
        "plt.title(\"Feature Importance in Random Forest\")\n",
        "plt.bar(range(X.shape[1]), importances[indices], align=\"center\")\n",
        "plt.xticks(range(X.shape[1]), X.columns[indices], rotation=90)\n",
        "plt.tight_layout()\n",
        "plt.show()\n"
      ]
    },
    {
      "cell_type": "code",
      "execution_count": 54,
      "metadata": {
        "colab": {
          "base_uri": "https://localhost:8080/",
          "height": 36
        },
        "id": "tz1lXOaxTzyZ",
        "outputId": "c599d3b5-8cc8-438c-a8fb-501a6385578c"
      },
      "outputs": [
        {
          "output_type": "execute_result",
          "data": {
            "text/plain": [
              "\"n = 20\\ntop_features = feature_importances['Feature'].head(n).values\\nX_selected = X[top_features]\""
            ],
            "application/vnd.google.colaboratory.intrinsic+json": {
              "type": "string"
            }
          },
          "metadata": {},
          "execution_count": 54
        }
      ],
      "source": [
        "'''n = 20\n",
        "top_features = feature_importances['Feature'].head(n).values\n",
        "X_selected = X[top_features]'''"
      ]
    },
    {
      "cell_type": "markdown",
      "metadata": {
        "id": "N4Y7YwlkXwM7"
      },
      "source": [
        "## **Model selection**"
      ]
    },
    {
      "cell_type": "code",
      "execution_count": 55,
      "metadata": {
        "colab": {
          "base_uri": "https://localhost:8080/"
        },
        "id": "HfcrXERdz1c8",
        "outputId": "4093c96f-69ae-42d7-e6f7-4cf4c016a1ed"
      },
      "outputs": [
        {
          "output_type": "stream",
          "name": "stdout",
          "text": [
            "Getting :RandomForestClassifier params using RandomizedSearchCV:\n",
            "\n",
            "bootstrap: False | ccp_alpha: 0.0 | criterion: gini | max_features: sqrt | min_impurity_decrease: 0.0 | min_samples_leaf: 1 | min_samples_split: 6 | min_weight_fraction_leaf: 0.0 | n_estimators: 80 | oob_score: False | verbose: 0 | warm_start: False\n",
            "\n",
            "\n"
          ]
        }
      ],
      "source": [
        "def get_params(model, param_dist, loss_function, X_train, y_train, n_iter=100, random_state=42):\n",
        "    warnings.filterwarnings(\"ignore\")\n",
        "    scorer = make_scorer(loss_function, greater_is_better=True)\n",
        "\n",
        "    print(f'Getting :{model.__class__.__name__} params using RandomizedSearchCV:\\n')\n",
        "\n",
        "    random_search = RandomizedSearchCV(model, param_distributions=param_dist, scoring=scorer, cv=5,\n",
        "                                       n_iter=n_iter, random_state=random_state)\n",
        "    random_search.fit(X_train, y_train)\n",
        "\n",
        "    best_model = random_search.best_estimator_\n",
        "    best_params = best_model.get_params()\n",
        "\n",
        "    param_string = \" | \".join([f\"{key}: {value}\" for key, value in best_params.items() if value is not None])\n",
        "    print(param_string)\n",
        "    print('\\n')\n",
        "\n",
        "    return best_params\n",
        "\n",
        "rf_param_dist = {\n",
        "    'n_estimators': np.arange(50, 200, 10),\n",
        "    'max_depth': [None] + list(np.arange(5, 20, 5)),\n",
        "    'min_samples_split': np.arange(2, 11),\n",
        "    'min_samples_leaf': np.arange(1, 11),\n",
        "    'bootstrap': [True, False]\n",
        "}\n",
        "\n",
        "X_train, X_test, y_train, y_test = train_test_split(X, y, test_size=0.2, random_state=42)\n",
        "rf_accuracy_params = get_params(RandomForestClassifier(), rf_param_dist, accuracy_score, X_train, y_train, n_iter=100, random_state=42)\n"
      ]
    },
    {
      "cell_type": "code",
      "execution_count": 56,
      "metadata": {
        "id": "YujG0wbljkTm"
      },
      "outputs": [],
      "source": [
        "model = RandomForestClassifier(**rf_accuracy_params)"
      ]
    },
    {
      "cell_type": "code",
      "execution_count": 57,
      "metadata": {
        "colab": {
          "base_uri": "https://localhost:8080/",
          "height": 80
        },
        "id": "Akb2iISsXfKz",
        "outputId": "8ce16557-dcf6-49b5-8e7b-81a55ba7dafe"
      },
      "outputs": [
        {
          "output_type": "execute_result",
          "data": {
            "text/plain": [
              "RandomForestClassifier(bootstrap=False, min_samples_split=6, n_estimators=80)"
            ],
            "text/html": [
              "<style>#sk-container-id-1 {\n",
              "  /* Definition of color scheme common for light and dark mode */\n",
              "  --sklearn-color-text: black;\n",
              "  --sklearn-color-line: gray;\n",
              "  /* Definition of color scheme for unfitted estimators */\n",
              "  --sklearn-color-unfitted-level-0: #fff5e6;\n",
              "  --sklearn-color-unfitted-level-1: #f6e4d2;\n",
              "  --sklearn-color-unfitted-level-2: #ffe0b3;\n",
              "  --sklearn-color-unfitted-level-3: chocolate;\n",
              "  /* Definition of color scheme for fitted estimators */\n",
              "  --sklearn-color-fitted-level-0: #f0f8ff;\n",
              "  --sklearn-color-fitted-level-1: #d4ebff;\n",
              "  --sklearn-color-fitted-level-2: #b3dbfd;\n",
              "  --sklearn-color-fitted-level-3: cornflowerblue;\n",
              "\n",
              "  /* Specific color for light theme */\n",
              "  --sklearn-color-text-on-default-background: var(--sg-text-color, var(--theme-code-foreground, var(--jp-content-font-color1, black)));\n",
              "  --sklearn-color-background: var(--sg-background-color, var(--theme-background, var(--jp-layout-color0, white)));\n",
              "  --sklearn-color-border-box: var(--sg-text-color, var(--theme-code-foreground, var(--jp-content-font-color1, black)));\n",
              "  --sklearn-color-icon: #696969;\n",
              "\n",
              "  @media (prefers-color-scheme: dark) {\n",
              "    /* Redefinition of color scheme for dark theme */\n",
              "    --sklearn-color-text-on-default-background: var(--sg-text-color, var(--theme-code-foreground, var(--jp-content-font-color1, white)));\n",
              "    --sklearn-color-background: var(--sg-background-color, var(--theme-background, var(--jp-layout-color0, #111)));\n",
              "    --sklearn-color-border-box: var(--sg-text-color, var(--theme-code-foreground, var(--jp-content-font-color1, white)));\n",
              "    --sklearn-color-icon: #878787;\n",
              "  }\n",
              "}\n",
              "\n",
              "#sk-container-id-1 {\n",
              "  color: var(--sklearn-color-text);\n",
              "}\n",
              "\n",
              "#sk-container-id-1 pre {\n",
              "  padding: 0;\n",
              "}\n",
              "\n",
              "#sk-container-id-1 input.sk-hidden--visually {\n",
              "  border: 0;\n",
              "  clip: rect(1px 1px 1px 1px);\n",
              "  clip: rect(1px, 1px, 1px, 1px);\n",
              "  height: 1px;\n",
              "  margin: -1px;\n",
              "  overflow: hidden;\n",
              "  padding: 0;\n",
              "  position: absolute;\n",
              "  width: 1px;\n",
              "}\n",
              "\n",
              "#sk-container-id-1 div.sk-dashed-wrapped {\n",
              "  border: 1px dashed var(--sklearn-color-line);\n",
              "  margin: 0 0.4em 0.5em 0.4em;\n",
              "  box-sizing: border-box;\n",
              "  padding-bottom: 0.4em;\n",
              "  background-color: var(--sklearn-color-background);\n",
              "}\n",
              "\n",
              "#sk-container-id-1 div.sk-container {\n",
              "  /* jupyter's `normalize.less` sets `[hidden] { display: none; }`\n",
              "     but bootstrap.min.css set `[hidden] { display: none !important; }`\n",
              "     so we also need the `!important` here to be able to override the\n",
              "     default hidden behavior on the sphinx rendered scikit-learn.org.\n",
              "     See: https://github.com/scikit-learn/scikit-learn/issues/21755 */\n",
              "  display: inline-block !important;\n",
              "  position: relative;\n",
              "}\n",
              "\n",
              "#sk-container-id-1 div.sk-text-repr-fallback {\n",
              "  display: none;\n",
              "}\n",
              "\n",
              "div.sk-parallel-item,\n",
              "div.sk-serial,\n",
              "div.sk-item {\n",
              "  /* draw centered vertical line to link estimators */\n",
              "  background-image: linear-gradient(var(--sklearn-color-text-on-default-background), var(--sklearn-color-text-on-default-background));\n",
              "  background-size: 2px 100%;\n",
              "  background-repeat: no-repeat;\n",
              "  background-position: center center;\n",
              "}\n",
              "\n",
              "/* Parallel-specific style estimator block */\n",
              "\n",
              "#sk-container-id-1 div.sk-parallel-item::after {\n",
              "  content: \"\";\n",
              "  width: 100%;\n",
              "  border-bottom: 2px solid var(--sklearn-color-text-on-default-background);\n",
              "  flex-grow: 1;\n",
              "}\n",
              "\n",
              "#sk-container-id-1 div.sk-parallel {\n",
              "  display: flex;\n",
              "  align-items: stretch;\n",
              "  justify-content: center;\n",
              "  background-color: var(--sklearn-color-background);\n",
              "  position: relative;\n",
              "}\n",
              "\n",
              "#sk-container-id-1 div.sk-parallel-item {\n",
              "  display: flex;\n",
              "  flex-direction: column;\n",
              "}\n",
              "\n",
              "#sk-container-id-1 div.sk-parallel-item:first-child::after {\n",
              "  align-self: flex-end;\n",
              "  width: 50%;\n",
              "}\n",
              "\n",
              "#sk-container-id-1 div.sk-parallel-item:last-child::after {\n",
              "  align-self: flex-start;\n",
              "  width: 50%;\n",
              "}\n",
              "\n",
              "#sk-container-id-1 div.sk-parallel-item:only-child::after {\n",
              "  width: 0;\n",
              "}\n",
              "\n",
              "/* Serial-specific style estimator block */\n",
              "\n",
              "#sk-container-id-1 div.sk-serial {\n",
              "  display: flex;\n",
              "  flex-direction: column;\n",
              "  align-items: center;\n",
              "  background-color: var(--sklearn-color-background);\n",
              "  padding-right: 1em;\n",
              "  padding-left: 1em;\n",
              "}\n",
              "\n",
              "\n",
              "/* Toggleable style: style used for estimator/Pipeline/ColumnTransformer box that is\n",
              "clickable and can be expanded/collapsed.\n",
              "- Pipeline and ColumnTransformer use this feature and define the default style\n",
              "- Estimators will overwrite some part of the style using the `sk-estimator` class\n",
              "*/\n",
              "\n",
              "/* Pipeline and ColumnTransformer style (default) */\n",
              "\n",
              "#sk-container-id-1 div.sk-toggleable {\n",
              "  /* Default theme specific background. It is overwritten whether we have a\n",
              "  specific estimator or a Pipeline/ColumnTransformer */\n",
              "  background-color: var(--sklearn-color-background);\n",
              "}\n",
              "\n",
              "/* Toggleable label */\n",
              "#sk-container-id-1 label.sk-toggleable__label {\n",
              "  cursor: pointer;\n",
              "  display: block;\n",
              "  width: 100%;\n",
              "  margin-bottom: 0;\n",
              "  padding: 0.5em;\n",
              "  box-sizing: border-box;\n",
              "  text-align: center;\n",
              "}\n",
              "\n",
              "#sk-container-id-1 label.sk-toggleable__label-arrow:before {\n",
              "  /* Arrow on the left of the label */\n",
              "  content: \"▸\";\n",
              "  float: left;\n",
              "  margin-right: 0.25em;\n",
              "  color: var(--sklearn-color-icon);\n",
              "}\n",
              "\n",
              "#sk-container-id-1 label.sk-toggleable__label-arrow:hover:before {\n",
              "  color: var(--sklearn-color-text);\n",
              "}\n",
              "\n",
              "/* Toggleable content - dropdown */\n",
              "\n",
              "#sk-container-id-1 div.sk-toggleable__content {\n",
              "  max-height: 0;\n",
              "  max-width: 0;\n",
              "  overflow: hidden;\n",
              "  text-align: left;\n",
              "  /* unfitted */\n",
              "  background-color: var(--sklearn-color-unfitted-level-0);\n",
              "}\n",
              "\n",
              "#sk-container-id-1 div.sk-toggleable__content.fitted {\n",
              "  /* fitted */\n",
              "  background-color: var(--sklearn-color-fitted-level-0);\n",
              "}\n",
              "\n",
              "#sk-container-id-1 div.sk-toggleable__content pre {\n",
              "  margin: 0.2em;\n",
              "  border-radius: 0.25em;\n",
              "  color: var(--sklearn-color-text);\n",
              "  /* unfitted */\n",
              "  background-color: var(--sklearn-color-unfitted-level-0);\n",
              "}\n",
              "\n",
              "#sk-container-id-1 div.sk-toggleable__content.fitted pre {\n",
              "  /* unfitted */\n",
              "  background-color: var(--sklearn-color-fitted-level-0);\n",
              "}\n",
              "\n",
              "#sk-container-id-1 input.sk-toggleable__control:checked~div.sk-toggleable__content {\n",
              "  /* Expand drop-down */\n",
              "  max-height: 200px;\n",
              "  max-width: 100%;\n",
              "  overflow: auto;\n",
              "}\n",
              "\n",
              "#sk-container-id-1 input.sk-toggleable__control:checked~label.sk-toggleable__label-arrow:before {\n",
              "  content: \"▾\";\n",
              "}\n",
              "\n",
              "/* Pipeline/ColumnTransformer-specific style */\n",
              "\n",
              "#sk-container-id-1 div.sk-label input.sk-toggleable__control:checked~label.sk-toggleable__label {\n",
              "  color: var(--sklearn-color-text);\n",
              "  background-color: var(--sklearn-color-unfitted-level-2);\n",
              "}\n",
              "\n",
              "#sk-container-id-1 div.sk-label.fitted input.sk-toggleable__control:checked~label.sk-toggleable__label {\n",
              "  background-color: var(--sklearn-color-fitted-level-2);\n",
              "}\n",
              "\n",
              "/* Estimator-specific style */\n",
              "\n",
              "/* Colorize estimator box */\n",
              "#sk-container-id-1 div.sk-estimator input.sk-toggleable__control:checked~label.sk-toggleable__label {\n",
              "  /* unfitted */\n",
              "  background-color: var(--sklearn-color-unfitted-level-2);\n",
              "}\n",
              "\n",
              "#sk-container-id-1 div.sk-estimator.fitted input.sk-toggleable__control:checked~label.sk-toggleable__label {\n",
              "  /* fitted */\n",
              "  background-color: var(--sklearn-color-fitted-level-2);\n",
              "}\n",
              "\n",
              "#sk-container-id-1 div.sk-label label.sk-toggleable__label,\n",
              "#sk-container-id-1 div.sk-label label {\n",
              "  /* The background is the default theme color */\n",
              "  color: var(--sklearn-color-text-on-default-background);\n",
              "}\n",
              "\n",
              "/* On hover, darken the color of the background */\n",
              "#sk-container-id-1 div.sk-label:hover label.sk-toggleable__label {\n",
              "  color: var(--sklearn-color-text);\n",
              "  background-color: var(--sklearn-color-unfitted-level-2);\n",
              "}\n",
              "\n",
              "/* Label box, darken color on hover, fitted */\n",
              "#sk-container-id-1 div.sk-label.fitted:hover label.sk-toggleable__label.fitted {\n",
              "  color: var(--sklearn-color-text);\n",
              "  background-color: var(--sklearn-color-fitted-level-2);\n",
              "}\n",
              "\n",
              "/* Estimator label */\n",
              "\n",
              "#sk-container-id-1 div.sk-label label {\n",
              "  font-family: monospace;\n",
              "  font-weight: bold;\n",
              "  display: inline-block;\n",
              "  line-height: 1.2em;\n",
              "}\n",
              "\n",
              "#sk-container-id-1 div.sk-label-container {\n",
              "  text-align: center;\n",
              "}\n",
              "\n",
              "/* Estimator-specific */\n",
              "#sk-container-id-1 div.sk-estimator {\n",
              "  font-family: monospace;\n",
              "  border: 1px dotted var(--sklearn-color-border-box);\n",
              "  border-radius: 0.25em;\n",
              "  box-sizing: border-box;\n",
              "  margin-bottom: 0.5em;\n",
              "  /* unfitted */\n",
              "  background-color: var(--sklearn-color-unfitted-level-0);\n",
              "}\n",
              "\n",
              "#sk-container-id-1 div.sk-estimator.fitted {\n",
              "  /* fitted */\n",
              "  background-color: var(--sklearn-color-fitted-level-0);\n",
              "}\n",
              "\n",
              "/* on hover */\n",
              "#sk-container-id-1 div.sk-estimator:hover {\n",
              "  /* unfitted */\n",
              "  background-color: var(--sklearn-color-unfitted-level-2);\n",
              "}\n",
              "\n",
              "#sk-container-id-1 div.sk-estimator.fitted:hover {\n",
              "  /* fitted */\n",
              "  background-color: var(--sklearn-color-fitted-level-2);\n",
              "}\n",
              "\n",
              "/* Specification for estimator info (e.g. \"i\" and \"?\") */\n",
              "\n",
              "/* Common style for \"i\" and \"?\" */\n",
              "\n",
              ".sk-estimator-doc-link,\n",
              "a:link.sk-estimator-doc-link,\n",
              "a:visited.sk-estimator-doc-link {\n",
              "  float: right;\n",
              "  font-size: smaller;\n",
              "  line-height: 1em;\n",
              "  font-family: monospace;\n",
              "  background-color: var(--sklearn-color-background);\n",
              "  border-radius: 1em;\n",
              "  height: 1em;\n",
              "  width: 1em;\n",
              "  text-decoration: none !important;\n",
              "  margin-left: 1ex;\n",
              "  /* unfitted */\n",
              "  border: var(--sklearn-color-unfitted-level-1) 1pt solid;\n",
              "  color: var(--sklearn-color-unfitted-level-1);\n",
              "}\n",
              "\n",
              ".sk-estimator-doc-link.fitted,\n",
              "a:link.sk-estimator-doc-link.fitted,\n",
              "a:visited.sk-estimator-doc-link.fitted {\n",
              "  /* fitted */\n",
              "  border: var(--sklearn-color-fitted-level-1) 1pt solid;\n",
              "  color: var(--sklearn-color-fitted-level-1);\n",
              "}\n",
              "\n",
              "/* On hover */\n",
              "div.sk-estimator:hover .sk-estimator-doc-link:hover,\n",
              ".sk-estimator-doc-link:hover,\n",
              "div.sk-label-container:hover .sk-estimator-doc-link:hover,\n",
              ".sk-estimator-doc-link:hover {\n",
              "  /* unfitted */\n",
              "  background-color: var(--sklearn-color-unfitted-level-3);\n",
              "  color: var(--sklearn-color-background);\n",
              "  text-decoration: none;\n",
              "}\n",
              "\n",
              "div.sk-estimator.fitted:hover .sk-estimator-doc-link.fitted:hover,\n",
              ".sk-estimator-doc-link.fitted:hover,\n",
              "div.sk-label-container:hover .sk-estimator-doc-link.fitted:hover,\n",
              ".sk-estimator-doc-link.fitted:hover {\n",
              "  /* fitted */\n",
              "  background-color: var(--sklearn-color-fitted-level-3);\n",
              "  color: var(--sklearn-color-background);\n",
              "  text-decoration: none;\n",
              "}\n",
              "\n",
              "/* Span, style for the box shown on hovering the info icon */\n",
              ".sk-estimator-doc-link span {\n",
              "  display: none;\n",
              "  z-index: 9999;\n",
              "  position: relative;\n",
              "  font-weight: normal;\n",
              "  right: .2ex;\n",
              "  padding: .5ex;\n",
              "  margin: .5ex;\n",
              "  width: min-content;\n",
              "  min-width: 20ex;\n",
              "  max-width: 50ex;\n",
              "  color: var(--sklearn-color-text);\n",
              "  box-shadow: 2pt 2pt 4pt #999;\n",
              "  /* unfitted */\n",
              "  background: var(--sklearn-color-unfitted-level-0);\n",
              "  border: .5pt solid var(--sklearn-color-unfitted-level-3);\n",
              "}\n",
              "\n",
              ".sk-estimator-doc-link.fitted span {\n",
              "  /* fitted */\n",
              "  background: var(--sklearn-color-fitted-level-0);\n",
              "  border: var(--sklearn-color-fitted-level-3);\n",
              "}\n",
              "\n",
              ".sk-estimator-doc-link:hover span {\n",
              "  display: block;\n",
              "}\n",
              "\n",
              "/* \"?\"-specific style due to the `<a>` HTML tag */\n",
              "\n",
              "#sk-container-id-1 a.estimator_doc_link {\n",
              "  float: right;\n",
              "  font-size: 1rem;\n",
              "  line-height: 1em;\n",
              "  font-family: monospace;\n",
              "  background-color: var(--sklearn-color-background);\n",
              "  border-radius: 1rem;\n",
              "  height: 1rem;\n",
              "  width: 1rem;\n",
              "  text-decoration: none;\n",
              "  /* unfitted */\n",
              "  color: var(--sklearn-color-unfitted-level-1);\n",
              "  border: var(--sklearn-color-unfitted-level-1) 1pt solid;\n",
              "}\n",
              "\n",
              "#sk-container-id-1 a.estimator_doc_link.fitted {\n",
              "  /* fitted */\n",
              "  border: var(--sklearn-color-fitted-level-1) 1pt solid;\n",
              "  color: var(--sklearn-color-fitted-level-1);\n",
              "}\n",
              "\n",
              "/* On hover */\n",
              "#sk-container-id-1 a.estimator_doc_link:hover {\n",
              "  /* unfitted */\n",
              "  background-color: var(--sklearn-color-unfitted-level-3);\n",
              "  color: var(--sklearn-color-background);\n",
              "  text-decoration: none;\n",
              "}\n",
              "\n",
              "#sk-container-id-1 a.estimator_doc_link.fitted:hover {\n",
              "  /* fitted */\n",
              "  background-color: var(--sklearn-color-fitted-level-3);\n",
              "}\n",
              "</style><div id=\"sk-container-id-1\" class=\"sk-top-container\"><div class=\"sk-text-repr-fallback\"><pre>RandomForestClassifier(bootstrap=False, min_samples_split=6, n_estimators=80)</pre><b>In a Jupyter environment, please rerun this cell to show the HTML representation or trust the notebook. <br />On GitHub, the HTML representation is unable to render, please try loading this page with nbviewer.org.</b></div><div class=\"sk-container\" hidden><div class=\"sk-item\"><div class=\"sk-estimator fitted sk-toggleable\"><input class=\"sk-toggleable__control sk-hidden--visually\" id=\"sk-estimator-id-1\" type=\"checkbox\" checked><label for=\"sk-estimator-id-1\" class=\"sk-toggleable__label fitted sk-toggleable__label-arrow fitted\">&nbsp;&nbsp;RandomForestClassifier<a class=\"sk-estimator-doc-link fitted\" rel=\"noreferrer\" target=\"_blank\" href=\"https://scikit-learn.org/1.5/modules/generated/sklearn.ensemble.RandomForestClassifier.html\">?<span>Documentation for RandomForestClassifier</span></a><span class=\"sk-estimator-doc-link fitted\">i<span>Fitted</span></span></label><div class=\"sk-toggleable__content fitted\"><pre>RandomForestClassifier(bootstrap=False, min_samples_split=6, n_estimators=80)</pre></div> </div></div></div></div>"
            ]
          },
          "metadata": {},
          "execution_count": 57
        }
      ],
      "source": [
        "model.fit(X_train, y_train)"
      ]
    },
    {
      "cell_type": "markdown",
      "metadata": {
        "id": "sclyhflvX-zg"
      },
      "source": [
        "## **Prediction and Evaluation**"
      ]
    },
    {
      "cell_type": "code",
      "execution_count": 58,
      "metadata": {
        "id": "MJCLrsJ_X1T6"
      },
      "outputs": [],
      "source": [
        "y_pred = model.predict(X_test)"
      ]
    },
    {
      "cell_type": "code",
      "execution_count": 59,
      "metadata": {
        "colab": {
          "base_uri": "https://localhost:8080/"
        },
        "id": "I-sr_2cOYGzV",
        "outputId": "d11d7854-bf6e-4142-c016-6490a780d7cf"
      },
      "outputs": [
        {
          "output_type": "stream",
          "name": "stdout",
          "text": [
            "Accuracy: 0.9208850150854844\n"
          ]
        }
      ],
      "source": [
        "accuracy = accuracy_score(y_test, y_pred)\n",
        "print(f'Accuracy: {accuracy}')"
      ]
    },
    {
      "cell_type": "code",
      "execution_count": 60,
      "metadata": {
        "colab": {
          "base_uri": "https://localhost:8080/"
        },
        "id": "VkDSMBvgYJ9v",
        "outputId": "2508f1f7-9828-48c9-92ca-8bc0e922eaf1"
      },
      "outputs": [
        {
          "output_type": "stream",
          "name": "stdout",
          "text": [
            "Confusion Matrix:\n",
            "[[  3   0   0 ...   0   0   0]\n",
            " [  0  21   0 ...   0   0   0]\n",
            " [  0   0 256 ...   0   0   0]\n",
            " ...\n",
            " [  0   0   0 ... 177   0   0]\n",
            " [  0   0   0 ...   0 278   0]\n",
            " [  0   2   0 ...   0   0   9]]\n"
          ]
        }
      ],
      "source": [
        "conf_matrix = confusion_matrix(y_test, y_pred)\n",
        "class_report = classification_report(y_test, y_pred,zero_division=0)\n",
        "\n",
        "print(\"Confusion Matrix:\")\n",
        "print(conf_matrix)"
      ]
    },
    {
      "cell_type": "code",
      "execution_count": 61,
      "metadata": {
        "colab": {
          "base_uri": "https://localhost:8080/"
        },
        "id": "eVEdwBWHYk6r",
        "outputId": "f59a6e1b-210d-40b1-dc72-6afa4e795062"
      },
      "outputs": [
        {
          "output_type": "stream",
          "name": "stdout",
          "text": [
            "\n",
            "Classification Report:\n",
            "                                                      precision    recall  f1-score   support\n",
            "\n",
            "                                           aloo gobi       0.75      0.43      0.55         7\n",
            "                       avocado toast with hemp seeds       0.66      0.84      0.74        25\n",
            "baked salmon with quinoa steamed veggies and avocado       1.00      1.00      1.00       257\n",
            "                     buckwheat pancakes with berries       0.66      0.83      0.73        23\n",
            "                                        chana masala       1.00      0.59      0.74        22\n",
            "                 chicken biryani with low-fat yogurt       0.98      0.96      0.97       152\n",
            "                                       chicken curry       0.76      0.73      0.75        30\n",
            "                                       chicken salad       1.00      1.00      1.00        59\n",
            "                  chicken soup with mixed vegetables       0.77      0.79      0.78        29\n",
            "                        chicken stir fry with quinoa       0.77      0.83      0.80        36\n",
            "                          chickpea and spinach curry       0.78      0.83      0.81        35\n",
            "                       coconut curry with vegetables       0.80      0.89      0.84         9\n",
            "                                           dal tadka       0.72      0.57      0.63        23\n",
            "                   egg bhurji with whole wheat bread       0.80      0.75      0.77        16\n",
            "                                           egg curry       0.82      0.64      0.72        28\n",
            "                           egg salad with vegetables       0.75      0.57      0.65        21\n",
            "                                          fish curry       1.00      0.72      0.84        32\n",
            "                          fish curry with brown rice       0.71      0.83      0.77        18\n",
            "                                     grilled chicken       0.60      0.64      0.62        33\n",
            "                grilled chicken with salad and fruit       1.00      0.99      0.99        98\n",
            "             grilled chicken with steamed vegetables       0.97      0.98      0.98       183\n",
            "                     grilled fish with avocado salad       0.80      0.57      0.67        14\n",
            "                      grilled salmon with brown rice       1.00      1.00      1.00        27\n",
            "                                        grilled tofu       0.87      0.99      0.92       111\n",
            "                        grilled tofu with brown rice       0.97      0.94      0.95       119\n",
            "                           idli with coconut chutney       0.90      0.78      0.84        23\n",
            "                                 masoor dal and rice       0.89      0.94      0.92        54\n",
            "                           methi paratha with yogurt       0.85      0.52      0.65        21\n",
            "                mixed vegetable stir fry with quinoa       1.00      1.00      1.00        50\n",
            "                                      mutton biryani       0.46      0.74      0.57        23\n",
            "                          oven-baked fish with herbs       0.90      0.85      0.88        33\n",
            "                        palak paneer with brown rice       0.61      0.71      0.66        28\n",
            "                  paneer bhurji with multigrain roti       0.67      0.70      0.68        20\n",
            "                                paneer butter masala       0.84      0.87      0.85        30\n",
            "                           paneer salad with chapati       1.00      1.00      1.00       136\n",
            "                quinoa salad with roasted vegetables       0.91      0.66      0.76        32\n",
            "                             spinach and lentil soup       0.71      0.69      0.70        32\n",
            "                            spinach and paneer curry       0.73      0.75      0.74        32\n",
            "               stuffed bell peppers with black beans       0.84      0.78      0.81        27\n",
            "                      sweet potato and chickpea stew       0.78      0.86      0.82        42\n",
            "                                         vegan salad       1.00      1.00      1.00       267\n",
            "              vegan salad with quinoa and vegetables       1.00      1.00      1.00        34\n",
            "                               vegan salad with tofu       1.00      1.00      1.00       171\n",
            "                                   vegetable khichdi       0.76      0.67      0.71        24\n",
            "                              vegetable quinoa pulao       0.83      0.89      0.86        27\n",
            "                      vegetable stir-fry with quinoa       1.00      1.00      1.00       177\n",
            "  whole grain pasta with vegetables and lean protein       0.97      1.00      0.98       279\n",
            "                         zucchini noodles with pesto       0.90      0.64      0.75        14\n",
            "\n",
            "                                            accuracy                           0.92      2983\n",
            "                                           macro avg       0.84      0.81      0.82      2983\n",
            "                                        weighted avg       0.92      0.92      0.92      2983\n",
            "\n"
          ]
        }
      ],
      "source": [
        "print(\"\\nClassification Report:\")\n",
        "print(class_report)"
      ]
    },
    {
      "cell_type": "markdown",
      "metadata": {
        "id": "6BYhwa3kUsUp"
      },
      "source": [
        "## **Save the model**"
      ]
    },
    {
      "cell_type": "code",
      "execution_count": 62,
      "metadata": {
        "colab": {
          "base_uri": "https://localhost:8080/"
        },
        "id": "--buLvDmUvm4",
        "outputId": "656caa41-b895-43aa-890d-06330df78cb3"
      },
      "outputs": [
        {
          "output_type": "execute_result",
          "data": {
            "text/plain": [
              "['nutrition_recommendation_model.pkl']"
            ]
          },
          "metadata": {},
          "execution_count": 62
        }
      ],
      "source": [
        "joblib.dump(model, 'nutrition_recommendation_model.pkl')"
      ]
    },
    {
      "cell_type": "markdown",
      "metadata": {
        "id": "S89AUPB0U37T"
      },
      "source": [
        "## **Recommendation Logic**"
      ]
    },
    {
      "cell_type": "code",
      "execution_count": 63,
      "metadata": {
        "id": "6dc14ir7o2YG",
        "colab": {
          "base_uri": "https://localhost:8080/"
        },
        "outputId": "a08afc28-87b8-456d-9a8e-ee1fe2802b2a"
      },
      "outputs": [
        {
          "output_type": "stream",
          "name": "stdout",
          "text": [
            "Enter Disease Name (Diabetes, Cardiovascular Disease, Chronic Kidney Disease, Asthma, Chronic Liver Disease): Asthma\n",
            "Enter your age: 45\n",
            "Enter your BMI (normal range for your age: Normal BMI: 18.5 - 24.9): 24\n",
            "\n",
            "Important Information for Asthma\n",
            "  - Glucose Range: Normal fasting blood glucose: 70-100 mg/dL\n",
            "  - Cholesterol Range: Ideal cholesterol: < 200 mg/dL\n",
            "  - Recommended Caloric Intake: 1800-2200 calories/day\n",
            "  - Suggested Allergies to Avoid: avoid foods like Nuts, Peanuts, Shellfish, Fish, Dairy, Eggs\n",
            "\n",
            "Enter your food preference (Vegetarian, Vegan, Non-Vegetarian): Vegan\n",
            "Specify your food allergy (Suggested based on your disease: avoid foods like Nuts, Peanuts, Shellfish, Fish, Dairy, Eggs): Fish\n",
            "Enter your Blood Pressure Category (Normal, Elevated, High, Hypertension): High\n",
            "Enter your Blood Glucose level (mg/dL, normal range: Normal fasting blood glucose: 70-100 mg/dL): 80\n",
            "Do you smoke? (Yes/No): no\n",
            "Do you consume alcohol? (Yes/No): no\n",
            "Enter your Cholesterol level (mg/dL, ideal range: Ideal cholesterol: < 200 mg/dL): 180\n",
            "Enter your desired caloric intake (recommended: 1800-2200 calories/day): 2000\n",
            "An error occurred during prediction: X has 11 features, but RandomForestClassifier is expecting 12 features as input.\n"
          ]
        }
      ],
      "source": [
        "model = joblib.load('nutrition_recommendation_model.pkl')\n",
        "\n",
        "alternative_meals = {  # Fixed the variable name from 'aalternative_meals' to 'alternative_meals'\n",
        "    'vegan': [\n",
        "        \"Vegan Salad with Quinoa and Vegetables\",\n",
        "        \"Sweet Potato and Chickpea Stew\",\n",
        "        \"Grilled Tofu with Brown Rice\",\n",
        "        \"Vegetable Khichdi\",\n",
        "        \"Spinach and Lentil Soup\",\n",
        "        \"Vegetable Stir-Fry with Quinoa\",\n",
        "        \"Chickpea and Spinach Curry\",\n",
        "        \"Buckwheat Pancakes with Berries\",\n",
        "        \"Avocado Toast with Hemp Seeds\"\n",
        "    ],\n",
        "    'vegetarian': [\n",
        "        \"Paneer Butter Masala\",\n",
        "        \"Masoor Dal and Rice\",\n",
        "        \"Vegetable Quinoa Pulao\",\n",
        "        \"Spinach and Paneer Curry\",\n",
        "        \"Idli with Coconut Chutney\",\n",
        "        \"Palak Paneer with Brown Rice\",\n",
        "        \"Vegetable Khichdi\",\n",
        "        \"Methi Paratha with Yogurt\",\n",
        "        \"Chana Masala\",\n",
        "        \"Mixed Vegetable Stir Fry with Quinoa\"\n",
        "    ],\n",
        "    'non-vegetarian': [\n",
        "        \"Chicken Biryani with Low-Fat Yogurt\",\n",
        "        \"Fish Curry with Brown Rice\",\n",
        "        \"Grilled Chicken with Steamed Vegetables\",\n",
        "        \"Grilled Fish with Avocado Salad\",\n",
        "        \"Oven-baked Fish with Herbs\",\n",
        "        \"Grilled Chicken with Salad and Fruit\",\n",
        "        \"Chicken Curry\",\n",
        "        \"Mutton Biryani\",\n",
        "        \"Grilled Salmon with Brown Rice\"\n",
        "    ]\n",
        "}\n",
        "\n",
        "def disease_specific_info(disease_name):\n",
        "    info = {}\n",
        "    if disease_name == 'diabetes':\n",
        "        info['allergies'] = [\"avoid high-sugar foods and processed foods (Dairy, Gluten, Soy)\"]\n",
        "        info['glucose_range'] = \"Normal fasting blood glucose: 70-100 mg/dL\"\n",
        "        info['cholesterol_range'] = \"Ideal cholesterol: < 200 mg/dL\"\n",
        "        info['caloric_intake'] = \"1800-2200 calories/day (depending on activity level)\"\n",
        "        info['bmi_range'] = \"Normal BMI: 18.5 - 24.9\"\n",
        "\n",
        "    elif disease_name == 'cardiovascular disease':\n",
        "        info['allergies'] = [\"avoid foods high in sodium, trans fats, and cholesterol(Shellfish, Eggs)\"]\n",
        "        info['glucose_range'] = \"Normal fasting blood glucose: 70-100 mg/dL\"\n",
        "        info['cholesterol_range'] = \"Ideal cholesterol: < 200 mg/dL\"\n",
        "        info['caloric_intake'] = \"2000-2400 calories/day\"\n",
        "        info['bmi_range'] = \"Normal BMI: 18.5 - 24.9\"\n",
        "\n",
        "    elif disease_name == 'asthma':\n",
        "        info['allergies'] = [\"avoid foods like Nuts, Peanuts, Shellfish, Fish, Dairy, Eggs\"]\n",
        "        info['glucose_range'] = \"Normal fasting blood glucose: 70-100 mg/dL\"\n",
        "        info['cholesterol_range'] = \"Ideal cholesterol: < 200 mg/dL\"\n",
        "        info['caloric_intake'] = \"1800-2200 calories/day\"\n",
        "        info['bmi_range'] = \"Normal BMI: 18.5 - 24.9\"\n",
        "\n",
        "    elif disease_name == 'chronic kidney disease':\n",
        "        info['allergies'] = [\"avoid foods high in potassium and phosphorus (Nuts, Tree nuts, Peanuts, Dairy, Shellfish)\"]\n",
        "        info['glucose_range'] = \"Normal fasting blood glucose: 70-100 mg/dL\"\n",
        "        info['cholesterol_range'] = \"Ideal cholesterol: < 200 mg/dL\"\n",
        "        info['caloric_intake'] = \"1800-2200 calories/day\"\n",
        "        info['bmi_range'] = \"Normal BMI: 18.5 - 24.9\"\n",
        "\n",
        "    elif disease_name == 'chronic liver disease':\n",
        "        info['allergies'] = [\"avoid alcohol and fatty foods(Shellfish, Dairy)\"]\n",
        "        info['glucose_range'] = \"Normal fasting blood glucose: 70-100 mg/dL\"\n",
        "        info['cholesterol_range'] = \"Ideal cholesterol: < 200 mg/dL\"\n",
        "        info['caloric_intake'] = \"1600-2000 calories/day\"\n",
        "        info['bmi_range'] = \"Normal BMI: 18.5 - 24.9\"\n",
        "\n",
        "    return info\n",
        "\n",
        "def get_user_input():\n",
        "    while True:\n",
        "        try:\n",
        "            disease_name = input(\"Enter Disease Name (Diabetes, Cardiovascular Disease, Chronic Kidney Disease, Asthma, Chronic Liver Disease): \").strip().lower()\n",
        "            if disease_name not in ['diabetes', 'cardiovascular disease', 'chronic kidney disease', 'asthma', 'chronic liver disease']:\n",
        "                raise ValueError(\"Invalid Disease Name\")\n",
        "\n",
        "            age = int(input(\"Enter your age: \"))\n",
        "            if age <= 0:\n",
        "                raise ValueError(\"Age must be a positive integer\")\n",
        "\n",
        "            bmi = float(input(f\"Enter your BMI (normal range for your age: {disease_specific_info(disease_name)['bmi_range']}): \"))\n",
        "            if bmi <= 0:\n",
        "                raise ValueError(\"BMI must be a positive number\")\n",
        "\n",
        "            info = disease_specific_info(disease_name)\n",
        "\n",
        "            print(\"\\nImportant Information for\", disease_name.title())\n",
        "            print(f\"  - Glucose Range: {info['glucose_range']}\")\n",
        "            print(f\"  - Cholesterol Range: {info['cholesterol_range']}\")\n",
        "            print(f\"  - Recommended Caloric Intake: {info['caloric_intake']}\")\n",
        "            print(f\"  - Suggested Allergies to Avoid: {', '.join(info['allergies'])}\\n\")\n",
        "\n",
        "            food_preference = input(\"Enter your food preference (Vegetarian, Vegan, Non-Vegetarian): \").strip().lower()\n",
        "            if food_preference not in ['vegetarian', 'vegan', 'non-vegetarian']:\n",
        "                raise ValueError(\"Invalid food preference option\")\n",
        "\n",
        "            allergy = input(f\"Specify your food allergy (Suggested based on your disease: {', '.join(info['allergies'])}): \").strip().lower()\n",
        "\n",
        "            blood_pressure = input(\"Enter your Blood Pressure Category (Normal, Elevated, High, Hypertension): \").strip().lower()\n",
        "            if blood_pressure not in ['normal', 'elevated', 'high', 'hypertension']:\n",
        "                raise ValueError(\"Invalid blood pressure option\")\n",
        "\n",
        "            glucose_level = int(input(f\"Enter your Blood Glucose level (mg/dL, normal range: {info['glucose_range']}): \"))\n",
        "            if glucose_level < 0:\n",
        "                raise ValueError(\"Glucose level must be a positive integer\")\n",
        "\n",
        "            smoking_status = input(\"Do you smoke? (Yes/No): \").strip().lower()\n",
        "            if smoking_status not in ['yes', 'no']:\n",
        "                raise ValueError(\"Invalid input for smoking status\")\n",
        "\n",
        "            alcohol_consumption = input(\"Do you consume alcohol? (Yes/No): \").strip().lower()\n",
        "            if alcohol_consumption not in ['yes', 'no']:\n",
        "                raise ValueError(\"Invalid input for alcohol consumption\")\n",
        "\n",
        "            cholesterol = int(input(f\"Enter your Cholesterol level (mg/dL, ideal range: {info['cholesterol_range']}): \"))\n",
        "            if cholesterol <= 0:\n",
        "                raise ValueError(\"Cholesterol must be a positive integer\")\n",
        "\n",
        "            desired_caloric_intake = int(input(f\"Enter your desired caloric intake (recommended: {info['caloric_intake']}): \"))\n",
        "            if desired_caloric_intake <= 0:\n",
        "                raise ValueError(\"Caloric intake must be a positive integer\")\n",
        "\n",
        "            if smoking_status == 'yes' or alcohol_consumption == 'yes':\n",
        "                print(\"\\nQuitting smoking and alcohol consumption significantly improves overall health. Consider quitting for a healthier life.\\n\")\n",
        "\n",
        "            break  # Exit the loop if all inputs are valid\n",
        "\n",
        "        except ValueError as ve:\n",
        "            print(f\"Error: {ve}. Please try again.\")\n",
        "\n",
        "    user_data = {\n",
        "        'Age': age,\n",
        "        'BMI': bmi,\n",
        "        'Food Preference': food_preference,\n",
        "        'Food Allergy': allergy,\n",
        "        'Blood Pressure Level': blood_pressure,\n",
        "        'Blood Glucose Level': glucose_level,\n",
        "        'Disease Name': disease_name,\n",
        "        'Smoking Status': smoking_status,\n",
        "        'Alcohol Consumption': alcohol_consumption,\n",
        "        'Cholesterol': cholesterol,\n",
        "        'Caloric Intake': desired_caloric_intake\n",
        "    }\n",
        "\n",
        "    predict_meal(user_data)\n",
        "\n",
        "def preprocess_input(user_data, encoders):\n",
        "    age_bmi = np.array([[user_data['Age'], user_data['BMI']]])\n",
        "    food_pref_encoded = encoders['food_preference'].transform([user_data['Food Preference']])\n",
        "    food_allergy_encoded = encoders['food_allergy'].transform([user_data['Food Allergy']])\n",
        "    disease_encoded = encoders['disease'].transform([user_data['Disease Name']])\n",
        "    smoking_encoded = encoders['smoking_status'].transform([user_data['Smoking Status']])\n",
        "    alcohol_encoded = encoders['alcohol_consumption'].transform([user_data['Alcohol Consumption']])\n",
        "    blood_pressure_encoded = encoders['blood_pressure'].transform([user_data['Blood Pressure Level']])\n",
        "\n",
        "    processed_data = np.concatenate((  # Use the correct axis for concatenation\n",
        "        age_bmi, food_pref_encoded.reshape(-1, 1), food_allergy_encoded.reshape(-1, 1), disease_encoded.reshape(-1, 1),\n",
        "        smoking_encoded.reshape(-1, 1), alcohol_encoded.reshape(-1, 1), blood_pressure_encoded.reshape(-1, 1),\n",
        "        np.array([[user_data['Blood Glucose Level']]]),\n",
        "        np.array([[user_data['Cholesterol']]]),\n",
        "        np.array([[user_data['Caloric Intake']]])\n",
        "    ), axis=None)\n",
        "\n",
        "    return processed_data\n",
        "\n",
        "def predict_meal(user_data):\n",
        "    processed_data = preprocess_input(user_data, encoders)\n",
        "    try:\n",
        "        prediction = model.predict([processed_data])\n",
        "        meal_plan = prediction[0]\n",
        "\n",
        "        # Update meal preference checks with additional non-vegetarian options\n",
        "        if user_data['Food Preference'] == 'vegan' and (\n",
        "            'chicken' in meal_plan.lower() or\n",
        "            'meat' in meal_plan.lower() or\n",
        "            'fish' in meal_plan.lower() or\n",
        "            'salmon' in meal_plan.lower() or\n",
        "            'grilled' in meal_plan.lower()):\n",
        "\n",
        "            print(\"Error: Non-vegan meal predicted. Re-checking meal options.\")\n",
        "            meal_plan = np.random.choice(alternative_meals['vegan'])\n",
        "\n",
        "        elif user_data['Food Preference'] == 'vegetarian' and (\n",
        "            'meat' in meal_plan.lower() or\n",
        "            'fish' in meal_plan.lower() or\n",
        "            'salmon' in meal_plan.lower() or\n",
        "            'chicken' in meal_plan.lower()):\n",
        "            print(\"Error: Non-vegetarian meal predicted. Re-checking meal options.\")\n",
        "            meal_plan = np.random.choice(alternative_meals['vegetarian'])\n",
        "\n",
        "        elif user_data['Food Preference'] == 'non-vegetarian' and (\n",
        "            'vegan' in meal_plan.lower() or\n",
        "            'vegetarian' in meal_plan.lower()):\n",
        "            print(\"Error: Vegetarian meal predicted. Re-checking meal options.\")\n",
        "            meal_plan = np.random.choice(alternative_meals['non-vegetarian'])\n",
        "\n",
        "        print(f\"\\nSuggested Meal Plan: {meal_plan}\")\n",
        "\n",
        "    except Exception as e:\n",
        "        print(f\"An error occurred during prediction: {e}\")\n",
        "\n",
        "encoders = {\n",
        "    'food_preference': LabelEncoder(),\n",
        "    'food_allergy': LabelEncoder(),\n",
        "    'disease': LabelEncoder(),\n",
        "    'smoking_status': LabelEncoder(),\n",
        "    'alcohol_consumption': LabelEncoder(),\n",
        "    'blood_pressure': LabelEncoder()\n",
        "}\n",
        "\n",
        "encoders['food_preference'].fit(['vegetarian', 'vegan', 'non-vegetarian'])\n",
        "encoders['food_allergy'].fit(['none', 'dairy', 'nuts', 'gluten', 'fish', 'coconut', 'eggs', 'seafood'])\n",
        "encoders['disease'].fit(['diabetes', 'cardiovascular disease', 'chronic kidney disease', 'chronic liver disease', 'asthma'])\n",
        "encoders['smoking_status'].fit(['yes', 'no'])\n",
        "encoders['alcohol_consumption'].fit(['yes', 'no'])\n",
        "encoders['blood_pressure'].fit(['normal', 'elevated', 'high', 'hypertension'])\n",
        "\n",
        "get_user_input()\n"
      ]
    }
  ],
  "metadata": {
    "colab": {
      "provenance": []
    },
    "kernelspec": {
      "display_name": "Python 3",
      "name": "python3"
    },
    "language_info": {
      "name": "python"
    }
  },
  "nbformat": 4,
  "nbformat_minor": 0
}